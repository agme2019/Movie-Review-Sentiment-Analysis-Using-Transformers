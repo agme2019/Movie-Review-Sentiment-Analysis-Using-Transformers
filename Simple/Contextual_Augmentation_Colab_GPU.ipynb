{
  "nbformat": 4,
  "nbformat_minor": 0,
  "metadata": {
    "colab": {
      "provenance": [],
      "machine_shape": "hm",
      "gpuType": "A100"
    },
    "kernelspec": {
      "name": "python3",
      "display_name": "Python 3"
    },
    "language_info": {
      "name": "python"
    },
    "accelerator": "GPU"
  },
  "cells": [
    {
      "cell_type": "markdown",
      "source": [
        "This is a **contextual augmentation** approach using BERT (Bidirectional Encoder Representations from Transformers). Here's a brief explanation:\n",
        "\n",
        "1. It identifies content words in the text (non-stopwords, longer than 3 characters)\n",
        "2. It masks these words one by one and uses BERT to predict contextually appropriate replacements\n",
        "3. It selects from BERT's top predictions to replace the original words\n",
        "4. It maintains the original meaning and sentiment while creating variations in the text\n",
        "\n",
        "Unlike simple word replacement or synonym-based methods, this technique leverages BERT's deep contextual understanding to ensure the replacements are semantically appropriate for the specific context. This helps maintain the sentiment and meaning of the reviews while providing enough variation to improve the model's ability to generalize.\n",
        "\n",
        "The advantage over other augmentation methods is that it creates more natural-sounding variations that preserve the original sentiment, which is crucial for sentiment analysis tasks."
      ],
      "metadata": {
        "id": "lUWi6ayi4gJC"
      }
    },
    {
      "cell_type": "code",
      "source": [
        "import pandas as pd\n",
        "import numpy as np\n",
        "import torch\n",
        "from transformers import BertTokenizer, BertForMaskedLM\n",
        "import random\n",
        "from tqdm import tqdm\n",
        "import os\n",
        "import re\n",
        "import time\n",
        "from google.colab import files\n",
        "\n",
        "class SimpleTokenizer:\n",
        "    \"\"\"A simple tokenizer that doesn't rely on NLTK, to avoid dependency issues.\"\"\"\n",
        "\n",
        "    def __init__(self):\n",
        "        # Common punctuation and symbols to treat as separate tokens\n",
        "        self.punctuation = set('.,;:!?()[]{}\"\\'-/')\n",
        "\n",
        "    def tokenize(self, text):\n",
        "        \"\"\"Split text into word tokens.\"\"\"\n",
        "        # Replace punctuation with spaces around them for easier splitting\n",
        "        for punct in self.punctuation:\n",
        "            text = text.replace(punct, f' {punct} ')\n",
        "\n",
        "        # Split by whitespace and filter out empty tokens\n",
        "        tokens = [token for token in text.split() if token]\n",
        "        return tokens\n",
        "\n",
        "class ContextualAugmenter:\n",
        "    \"\"\"\n",
        "    Implement contextual augmentation using BERT masked language model.\n",
        "    This approach replaces words with contextually similar words predicted by BERT.\n",
        "    \"\"\"\n",
        "\n",
        "    def __init__(self, device=None):\n",
        "        \"\"\"Initialize the augmenter with BERT model and tokenizer.\"\"\"\n",
        "        if device is None:\n",
        "            # Check for available devices in this order: CUDA → MPS → CPU\n",
        "            if torch.cuda.is_available():\n",
        "                self.device = torch.device(\"cuda\")\n",
        "                print(f\"Using CUDA device: {torch.cuda.get_device_name(0)}\")\n",
        "                # For A100, set larger model parallel size\n",
        "                if \"A100\" in torch.cuda.get_device_name(0):\n",
        "                    print(\"Detected A100 GPU - optimizing settings\")\n",
        "            elif hasattr(torch.backends, 'mps') and torch.backends.mps.is_available():\n",
        "                self.device = torch.device(\"mps\")\n",
        "                print(\"Using Apple Silicon MPS acceleration\")\n",
        "            else:\n",
        "                self.device = torch.device(\"cpu\")\n",
        "                print(\"Using CPU (no GPU acceleration available)\")\n",
        "        else:\n",
        "            self.device = device\n",
        "            print(f\"Using specified device: {self.device}\")\n",
        "\n",
        "        # Custom tokenizer instead of NLTK\n",
        "        self.word_tokenizer = SimpleTokenizer()\n",
        "\n",
        "        # Load pre-trained model and tokenizer\n",
        "        print(\"Loading BERT model and tokenizer...\")\n",
        "        self.tokenizer = BertTokenizer.from_pretrained('bert-base-uncased')\n",
        "        self.model = BertForMaskedLM.from_pretrained('bert-base-uncased')\n",
        "        self.model.to(self.device)\n",
        "        self.model.eval()\n",
        "\n",
        "        # Define mask token ID\n",
        "        self.mask_token_id = self.tokenizer.convert_tokens_to_ids(['[MASK]'])[0]\n",
        "\n",
        "        # Maximum sequence length for BERT\n",
        "        self.max_seq_length = 512\n",
        "\n",
        "    def _get_word_replacements(self, text, word_to_replace, num_predictions=5):\n",
        "        \"\"\"Get contextual replacements for a specific word in the text.\"\"\"\n",
        "        # If text is too long, find the occurrence of the word and use a window around it\n",
        "        if len(text.split()) > 100:  # Approximate threshold\n",
        "            words = text.split()\n",
        "            word_pos = -1\n",
        "\n",
        "            # Find position of the word to replace\n",
        "            for i, word in enumerate(words):\n",
        "                if word.lower() == word_to_replace.lower():\n",
        "                    word_pos = i\n",
        "                    break\n",
        "\n",
        "            if word_pos == -1:\n",
        "                return []  # Word not found\n",
        "\n",
        "            # Create a window around the word\n",
        "            start_pos = max(0, word_pos - 50)\n",
        "            end_pos = min(len(words), word_pos + 50)\n",
        "\n",
        "            # Create a shorter text with the word in context\n",
        "            text = ' '.join(words[start_pos:end_pos])\n",
        "\n",
        "            # Adjust word_to_replace if it might have changed (e.g., with punctuation)\n",
        "            if word_pos >= start_pos and word_pos < end_pos:\n",
        "                word_to_replace = words[word_pos]\n",
        "\n",
        "        # Tokenize the text\n",
        "        tokens = self.tokenizer.tokenize(text)\n",
        "\n",
        "        # If the text is still too long, truncate it to fit BERT's limit\n",
        "        if len(tokens) > self.max_seq_length - 2:  # -2 for [CLS] and [SEP]\n",
        "            # Find the word in tokens\n",
        "            word_tokens = self.tokenizer.tokenize(word_to_replace)\n",
        "\n",
        "            if not word_tokens:\n",
        "                return []\n",
        "\n",
        "            word_token = word_tokens[0]\n",
        "\n",
        "            # Find the positions of the word token\n",
        "            positions = [i for i, token in enumerate(tokens) if token == word_token]\n",
        "\n",
        "            if not positions:\n",
        "                return []\n",
        "\n",
        "            # Use the first occurrence and create a window around it\n",
        "            pos = positions[0]\n",
        "            left_context = max(0, pos - 200)\n",
        "            right_context = min(len(tokens), pos + 200)\n",
        "\n",
        "            tokens = tokens[left_context:right_context]\n",
        "\n",
        "        # Find the token(s) corresponding to the word to replace\n",
        "        word_tokens = self.tokenizer.tokenize(word_to_replace)\n",
        "\n",
        "        # If the word splits into multiple tokens, we'll only replace the first one\n",
        "        # for simplicity (could be extended to handle multi-token replacements)\n",
        "        if not word_tokens:\n",
        "            return []\n",
        "\n",
        "        word_token = word_tokens[0]\n",
        "\n",
        "        # Find positions of the token in the tokenized text\n",
        "        positions = [i for i, token in enumerate(tokens) if token == word_token]\n",
        "        if not positions:\n",
        "            return []\n",
        "\n",
        "        # Randomly select one position to mask\n",
        "        position = random.choice(positions)\n",
        "\n",
        "        # Create a copy of tokens and replace the selected position with [MASK]\n",
        "        masked_tokens = tokens.copy()\n",
        "        masked_tokens[position] = '[MASK]'\n",
        "\n",
        "        # Convert to input IDs and create attention mask\n",
        "        inputs = self.tokenizer.encode_plus(\n",
        "            \" \".join(masked_tokens),\n",
        "            return_tensors=\"pt\",\n",
        "            padding='max_length',\n",
        "            truncation=True,\n",
        "            max_length=self.max_seq_length\n",
        "        )\n",
        "\n",
        "        input_ids = inputs[\"input_ids\"].to(self.device)\n",
        "        attention_mask = inputs[\"attention_mask\"].to(self.device)\n",
        "\n",
        "        # Find position of mask token in input_ids\n",
        "        mask_positions = (input_ids == self.mask_token_id).nonzero()\n",
        "        if mask_positions.shape[0] == 0:\n",
        "            return []\n",
        "\n",
        "        mask_position = mask_positions[0, 1]\n",
        "\n",
        "        # Generate predictions\n",
        "        with torch.no_grad():\n",
        "            outputs = self.model(input_ids=input_ids, attention_mask=attention_mask)\n",
        "            predictions = outputs.logits\n",
        "\n",
        "        # Get top predictions for masked token\n",
        "        probs = torch.nn.functional.softmax(predictions[0, mask_position], dim=0)\n",
        "        top_k_weights, top_k_indices = torch.topk(probs, num_predictions)\n",
        "\n",
        "        # Convert token IDs to tokens\n",
        "        replacements = []\n",
        "        for token_id in top_k_indices:\n",
        "            token = self.tokenizer.convert_ids_to_tokens([token_id])[0]\n",
        "\n",
        "            # Skip special tokens and subword tokens (starting with ##)\n",
        "            if token.startswith('##') or token in ['[CLS]', '[SEP]', '[MASK]', '[PAD]']:\n",
        "                continue\n",
        "\n",
        "            # Skip if the replacement is the same as the original\n",
        "            if token.lower() == word_token.lower():\n",
        "                continue\n",
        "\n",
        "            replacements.append(token)\n",
        "\n",
        "        return replacements\n",
        "\n",
        "    def augment(self, text, percent=0.15, top_n=5, max_length=10000):\n",
        "        \"\"\"\n",
        "        Augment text by replacing a percentage of words with contextual predictions.\n",
        "\n",
        "        Args:\n",
        "            text (str): Input text to augment\n",
        "            percent (float): Percentage of words to replace\n",
        "            top_n (int): Number of top predictions to consider\n",
        "            max_length (int): Maximum text length to process\n",
        "\n",
        "        Returns:\n",
        "            str: Augmented text\n",
        "        \"\"\"\n",
        "        # If text is too long, truncate it (this is a safety measure)\n",
        "        if len(text) > max_length:\n",
        "            text = text[:max_length]\n",
        "\n",
        "        # Tokenize into words using our simple tokenizer\n",
        "        words = self.word_tokenizer.tokenize(text)\n",
        "\n",
        "        # Determine number of words to replace\n",
        "        n_to_replace = max(1, int(len(words) * percent))\n",
        "\n",
        "        # Create a copy of words\n",
        "        new_words = words.copy()\n",
        "\n",
        "        # Get indices of words to potentially replace (exclude short words and non-alphabetic)\n",
        "        valid_indices = []\n",
        "        for i, word in enumerate(words):\n",
        "            # Skip words that are too short\n",
        "            if len(word) <= 3:\n",
        "                continue\n",
        "\n",
        "            # Skip words that are not alphabetic\n",
        "            if not word.isalpha():\n",
        "                continue\n",
        "\n",
        "            valid_indices.append(i)\n",
        "\n",
        "        # Shuffle and select indices to replace\n",
        "        if valid_indices:\n",
        "            random.shuffle(valid_indices)\n",
        "            indices_to_replace = valid_indices[:n_to_replace]\n",
        "\n",
        "            # Replace selected words\n",
        "            for idx in indices_to_replace:\n",
        "                word_to_replace = words[idx]\n",
        "\n",
        "                # Get contextual replacements\n",
        "                replacements = self._get_word_replacements(text, word_to_replace, top_n)\n",
        "\n",
        "                # Replace if we found valid replacements\n",
        "                if replacements:\n",
        "                    new_words[idx] = random.choice(replacements)\n",
        "\n",
        "        # Join words back into text\n",
        "        augmented_text = ' '.join(new_words)\n",
        "\n",
        "        return augmented_text\n",
        "\n",
        "\n",
        "def augment_imdb_with_contextual(input_file, output_file, sample_fraction=0.2, augmentations_per_sample=1,\n",
        "                                batch_size=1, max_reviews_length=10000):\n",
        "    \"\"\"\n",
        "    Augment the IMDB dataset with contextual augmentation.\n",
        "\n",
        "    Args:\n",
        "        input_file: Path to the original IMDB CSV file\n",
        "        output_file: Path to save the augmented dataset\n",
        "        sample_fraction: Fraction of dataset to augment\n",
        "        augmentations_per_sample: Number of augmentations to create per sample\n",
        "        batch_size: Process this many reviews at once (for progress reporting)\n",
        "        max_reviews_length: Skip reviews longer than this to avoid memory issues\n",
        "    \"\"\"\n",
        "    # Check if the input file exists\n",
        "    if not os.path.exists(input_file):\n",
        "        raise FileNotFoundError(f\"Input file not found: {input_file}\")\n",
        "\n",
        "    # Load the IMDB dataset\n",
        "    print(f\"Loading dataset from {input_file}...\")\n",
        "    df = pd.read_csv(input_file)\n",
        "\n",
        "    # Check for required columns\n",
        "    if 'review' not in df.columns or 'label' not in df.columns:\n",
        "        raise ValueError(\"The dataset must contain 'review' and 'label' columns!\")\n",
        "\n",
        "    # Display dataset statistics\n",
        "    print(f\"Original dataset size: {len(df)} reviews\")\n",
        "    print(f\"Class distribution: {df['label'].value_counts().to_dict()}\")\n",
        "\n",
        "    # Initialize the augmenter\n",
        "    augmenter = ContextualAugmenter()\n",
        "\n",
        "    # Sample a subset of the data to augment\n",
        "    n_samples = int(len(df) * sample_fraction)\n",
        "    print(f\"Sampling {n_samples} reviews for augmentation...\")\n",
        "\n",
        "    # Ensure we have equal representation of both classes\n",
        "    df_pos = df[df['label'] == 1].sample(n=n_samples//2, random_state=42)\n",
        "    df_neg = df[df['label'] == 0].sample(n=n_samples//2, random_state=42)\n",
        "    df_to_augment = pd.concat([df_pos, df_neg], ignore_index=True)\n",
        "\n",
        "    # Filter out extremely long reviews\n",
        "    df_to_augment = df_to_augment[df_to_augment['review'].str.len() < max_reviews_length]\n",
        "    print(f\"Using {len(df_to_augment)} reviews after filtering by length\")\n",
        "\n",
        "    # Initialize an empty list to store augmented data\n",
        "    augmented_data = []\n",
        "\n",
        "    # Augment the sampled data\n",
        "    print(\"\\nGenerating contextual augmentations...\")\n",
        "\n",
        "    # Process in batches for better progress reporting\n",
        "    num_batches = len(df_to_augment) // batch_size + (1 if len(df_to_augment) % batch_size > 0 else 0)\n",
        "\n",
        "    # Add a small delay to ensure tqdm can initialize properly\n",
        "    time.sleep(0.5)\n",
        "\n",
        "    # Save intermediate results every save_interval batches\n",
        "    save_interval = max(1, num_batches // 10)  # Save approximately 10 times during processing\n",
        "\n",
        "    for batch_idx in tqdm(range(num_batches), desc=\"Processing batches\"):\n",
        "        start_idx = batch_idx * batch_size\n",
        "        end_idx = min((batch_idx + 1) * batch_size, len(df_to_augment))\n",
        "\n",
        "        batch_df = df_to_augment.iloc[start_idx:end_idx]\n",
        "\n",
        "        for _, row in batch_df.iterrows():\n",
        "            review = row['review']\n",
        "            label = row['label']\n",
        "\n",
        "            # Create multiple augmentations per sample\n",
        "            for i in range(augmentations_per_sample):\n",
        "                try:\n",
        "                    augmented_review = augmenter.augment(review, percent=0.15)\n",
        "\n",
        "                    # Only add if the augmentation is different from the original\n",
        "                    if augmented_review != review:\n",
        "                        augmented_data.append({\n",
        "                            'review': augmented_review,\n",
        "                            'label': label,\n",
        "                            'technique': f'contextual_aug_{i+1}'\n",
        "                        })\n",
        "\n",
        "                        # Save progress periodically\n",
        "                        if len(augmented_data) % 100 == 0:\n",
        "                            print(f\"Created {len(augmented_data)} augmented samples so far\")\n",
        "\n",
        "                except Exception as e:\n",
        "                    print(f\"Error during augmentation: {str(e)[:100]}...\")\n",
        "                    continue\n",
        "\n",
        "        # Save intermediate results periodically\n",
        "        if batch_idx > 0 and batch_idx % save_interval == 0:\n",
        "            print(f\"Saving intermediate results after processing {batch_idx} batches...\")\n",
        "\n",
        "            # Add technique column to original data for intermediate save\n",
        "            df_original = df.copy()\n",
        "            df_original['technique'] = 'original'\n",
        "\n",
        "            # Create a DataFrame with current augmented data\n",
        "            if augmented_data:\n",
        "                df_augmented = pd.DataFrame(augmented_data)\n",
        "\n",
        "                # Combine original and current augmented data\n",
        "                df_combined = pd.concat([df_original, df_augmented], ignore_index=True)\n",
        "\n",
        "                # Save intermediate results\n",
        "                intermediate_file = f\"{os.path.splitext(output_file)[0]}_intermediate_{batch_idx}.csv\"\n",
        "                df_combined.to_csv(intermediate_file, index=False)\n",
        "                print(f\"Saved {len(df_augmented)} augmented samples to {intermediate_file}\")\n",
        "\n",
        "    # Add technique column to original data\n",
        "    df_original = df.copy()\n",
        "    df_original['technique'] = 'original'\n",
        "\n",
        "    # Create a DataFrame with augmented data\n",
        "    if augmented_data:\n",
        "        df_augmented = pd.DataFrame(augmented_data)\n",
        "\n",
        "        # Combine original and augmented data\n",
        "        df_combined = pd.concat([df_original, df_augmented], ignore_index=True)\n",
        "\n",
        "        # Display augmented dataset statistics\n",
        "        print(f\"\\nAugmented dataset size: {len(df_combined)} reviews\")\n",
        "        print(f\"Added {len(df_augmented)} augmented samples\")\n",
        "        print(f\"Percentage increase: {(len(df_combined) - len(df)) / len(df) * 100:.2f}%\")\n",
        "\n",
        "        # Save the augmented dataset\n",
        "        print(f\"Saving augmented dataset to {output_file}...\")\n",
        "        df_combined.to_csv(output_file, index=False)\n",
        "        print(\"Done!\")\n",
        "\n",
        "        # Check if running in Google Colab and trigger download\n",
        "        try:\n",
        "            import google.colab\n",
        "            print(\"Running in Google Colab - initiating download...\")\n",
        "            files.download(output_file)\n",
        "            print(f\"File {output_file} should be downloading to your local machine.\")\n",
        "        except ImportError:\n",
        "            print(\"Not running in Google Colab, skipping automatic download.\")\n",
        "\n",
        "        # Display a few examples of original and augmented reviews\n",
        "        print(\"\\nExamples of original and augmented reviews:\")\n",
        "        for i in range(1, augmentations_per_sample + 1):\n",
        "            technique = f'contextual_aug_{i}'\n",
        "            aug_examples = df_combined[df_combined['technique'] == technique].head(2)\n",
        "\n",
        "            for _, row in aug_examples.iterrows():\n",
        "                print(f\"\\nAugmented (contextual):\")\n",
        "                print(row['review'][:200] + \"...\" if len(row['review']) > 200 else row['review'])\n",
        "\n",
        "                # Try to find the original review\n",
        "                try:\n",
        "                    # Find the original review\n",
        "                    original_idx = df_to_augment.loc[\n",
        "                        (df_to_augment['label'] == row['label']) &\n",
        "                        (df_to_augment.index % len(df_to_augment) ==\n",
        "                         row.name % len(df_to_augment))\n",
        "                    ].index\n",
        "\n",
        "                    if not original_idx.empty:\n",
        "                        original_review = df.loc[original_idx[0], 'review']\n",
        "                        print(\"\\nOriginal:\")\n",
        "                        print(original_review[:200] + \"...\" if len(original_review) > 200 else original_review)\n",
        "                except Exception:\n",
        "                    print(\"Could not retrieve original review for comparison\")\n",
        "    else:\n",
        "        print(\"No augmented data was generated. Saving original dataset only.\")\n",
        "        df_original.to_csv(output_file, index=False)\n",
        "\n",
        "        # Check if running in Google Colab and trigger download\n",
        "        try:\n",
        "            import google.colab\n",
        "            print(\"Running in Google Colab - initiating download...\")\n",
        "            files.download(output_file)\n",
        "            print(f\"File {output_file} should be downloading to your local machine.\")\n",
        "        except ImportError:\n",
        "            print(\"Not running in Google Colab, skipping automatic download.\")\n",
        "\n",
        "\n",
        "if __name__ == \"__main__\":\n",
        "    # Set the paths for input and output files\n",
        "    input_file = \"imdb_train_dataset.csv\"\n",
        "    output_file = \"imdb_train_contextual_augmented.csv\"\n",
        "\n",
        "    # Set the fraction of the dataset to augment\n",
        "    sample_fraction = 0.8  # Augment 20% of the dataset\n",
        "\n",
        "    # Set number of augmentations per sample\n",
        "    augmentations_per_sample = 1\n",
        "\n",
        "    # Set batch size for progress reporting\n",
        "    batch_size = 1\n",
        "\n",
        "    # Set maximum review length (characters) to process\n",
        "    max_reviews_length = 8000\n",
        "\n",
        "    # Run the augmentation\n",
        "    augment_imdb_with_contextual(\n",
        "        input_file=input_file,\n",
        "        output_file=output_file,\n",
        "        sample_fraction=sample_fraction,\n",
        "        augmentations_per_sample=augmentations_per_sample,\n",
        "        batch_size=batch_size,\n",
        "        max_reviews_length=max_reviews_length\n",
        "    )"
      ],
      "metadata": {
        "colab": {
          "base_uri": "https://localhost:8080/",
          "height": 1000
        },
        "id": "cXlV__FD5WJS",
        "outputId": "091409b4-5077-4527-bb20-f356c9fd831b"
      },
      "execution_count": 4,
      "outputs": [
        {
          "metadata": {
            "tags": null
          },
          "name": "stdout",
          "output_type": "stream",
          "text": [
            "Loading dataset from imdb_train_dataset.csv...\n",
            "Original dataset size: 25000 reviews\n",
            "Class distribution: {1: 12500, 0: 12500}\n",
            "Using CUDA device: NVIDIA A100-SXM4-40GB\n",
            "Detected A100 GPU - optimizing settings\n",
            "Loading BERT model and tokenizer...\n"
          ]
        },
        {
          "metadata": {
            "tags": null
          },
          "name": "stderr",
          "output_type": "stream",
          "text": [
            "Some weights of the model checkpoint at bert-base-uncased were not used when initializing BertForMaskedLM: ['bert.pooler.dense.bias', 'bert.pooler.dense.weight', 'cls.seq_relationship.bias', 'cls.seq_relationship.weight']\n",
            "- This IS expected if you are initializing BertForMaskedLM from the checkpoint of a model trained on another task or with another architecture (e.g. initializing a BertForSequenceClassification model from a BertForPreTraining model).\n",
            "- This IS NOT expected if you are initializing BertForMaskedLM from the checkpoint of a model that you expect to be exactly identical (initializing a BertForSequenceClassification model from a BertForSequenceClassification model).\n"
          ]
        },
        {
          "metadata": {
            "tags": null
          },
          "name": "stdout",
          "output_type": "stream",
          "text": [
            "Sampling 20000 reviews for augmentation...\n",
            "Using 19992 reviews after filtering by length\n",
            "\n",
            "Generating contextual augmentations...\n"
          ]
        },
        {
          "metadata": {
            "tags": null
          },
          "name": "stderr",
          "output_type": "stream",
          "text": [
            "Processing batches:   1%|          | 100/19992 [00:55<2:23:23,  2.31it/s]"
          ]
        },
        {
          "metadata": {
            "tags": null
          },
          "name": "stdout",
          "output_type": "stream",
          "text": [
            "Created 100 augmented samples so far\n"
          ]
        },
        {
          "metadata": {
            "tags": null
          },
          "name": "stderr",
          "output_type": "stream",
          "text": [
            "Processing batches:   1%|          | 200/19992 [01:36<3:06:15,  1.77it/s]"
          ]
        },
        {
          "metadata": {
            "tags": null
          },
          "name": "stdout",
          "output_type": "stream",
          "text": [
            "Created 200 augmented samples so far\n"
          ]
        },
        {
          "metadata": {
            "tags": null
          },
          "name": "stderr",
          "output_type": "stream",
          "text": [
            "Processing batches:   2%|▏         | 300/19992 [02:20<1:56:50,  2.81it/s]"
          ]
        },
        {
          "metadata": {
            "tags": null
          },
          "name": "stdout",
          "output_type": "stream",
          "text": [
            "Created 300 augmented samples so far\n"
          ]
        },
        {
          "metadata": {
            "tags": null
          },
          "name": "stderr",
          "output_type": "stream",
          "text": [
            "Processing batches:   2%|▏         | 400/19992 [03:15<1:52:04,  2.91it/s]"
          ]
        },
        {
          "metadata": {
            "tags": null
          },
          "name": "stdout",
          "output_type": "stream",
          "text": [
            "Created 400 augmented samples so far\n"
          ]
        },
        {
          "metadata": {
            "tags": null
          },
          "name": "stderr",
          "output_type": "stream",
          "text": [
            "Processing batches:   3%|▎         | 500/19992 [03:59<2:28:10,  2.19it/s]"
          ]
        },
        {
          "metadata": {
            "tags": null
          },
          "name": "stdout",
          "output_type": "stream",
          "text": [
            "Created 500 augmented samples so far\n"
          ]
        },
        {
          "metadata": {
            "tags": null
          },
          "name": "stderr",
          "output_type": "stream",
          "text": [
            "Processing batches:   3%|▎         | 600/19992 [04:55<2:35:10,  2.08it/s]"
          ]
        },
        {
          "metadata": {
            "tags": null
          },
          "name": "stdout",
          "output_type": "stream",
          "text": [
            "Created 600 augmented samples so far\n"
          ]
        },
        {
          "metadata": {
            "tags": null
          },
          "name": "stderr",
          "output_type": "stream",
          "text": [
            "Processing batches:   4%|▎         | 700/19992 [05:49<2:15:00,  2.38it/s]"
          ]
        },
        {
          "metadata": {
            "tags": null
          },
          "name": "stdout",
          "output_type": "stream",
          "text": [
            "Created 700 augmented samples so far\n"
          ]
        },
        {
          "metadata": {
            "tags": null
          },
          "name": "stderr",
          "output_type": "stream",
          "text": [
            "Processing batches:   4%|▍         | 800/19992 [06:47<5:28:52,  1.03s/it]"
          ]
        },
        {
          "metadata": {
            "tags": null
          },
          "name": "stdout",
          "output_type": "stream",
          "text": [
            "Created 800 augmented samples so far\n"
          ]
        },
        {
          "metadata": {
            "tags": null
          },
          "name": "stderr",
          "output_type": "stream",
          "text": [
            "Processing batches:   5%|▍         | 900/19992 [07:29<1:45:38,  3.01it/s]"
          ]
        },
        {
          "metadata": {
            "tags": null
          },
          "name": "stdout",
          "output_type": "stream",
          "text": [
            "Created 900 augmented samples so far\n"
          ]
        },
        {
          "metadata": {
            "tags": null
          },
          "name": "stderr",
          "output_type": "stream",
          "text": [
            "Processing batches:   5%|▌         | 1000/19992 [08:24<1:58:36,  2.67it/s]"
          ]
        },
        {
          "metadata": {
            "tags": null
          },
          "name": "stdout",
          "output_type": "stream",
          "text": [
            "Created 1000 augmented samples so far\n"
          ]
        },
        {
          "metadata": {
            "tags": null
          },
          "name": "stderr",
          "output_type": "stream",
          "text": [
            "Processing batches:   6%|▌         | 1100/19992 [09:12<2:20:56,  2.23it/s]"
          ]
        },
        {
          "metadata": {
            "tags": null
          },
          "name": "stdout",
          "output_type": "stream",
          "text": [
            "Created 1100 augmented samples so far\n"
          ]
        },
        {
          "metadata": {
            "tags": null
          },
          "name": "stderr",
          "output_type": "stream",
          "text": [
            "Processing batches:   6%|▌         | 1200/19992 [10:02<1:59:24,  2.62it/s]"
          ]
        },
        {
          "metadata": {
            "tags": null
          },
          "name": "stdout",
          "output_type": "stream",
          "text": [
            "Created 1200 augmented samples so far\n"
          ]
        },
        {
          "metadata": {
            "tags": null
          },
          "name": "stderr",
          "output_type": "stream",
          "text": [
            "Processing batches:   6%|▋         | 1299/19992 [10:51<2:39:38,  1.95it/s]"
          ]
        },
        {
          "metadata": {
            "tags": null
          },
          "name": "stdout",
          "output_type": "stream",
          "text": [
            "Created 1300 augmented samples so far\n"
          ]
        },
        {
          "metadata": {
            "tags": null
          },
          "name": "stderr",
          "output_type": "stream",
          "text": [
            "Processing batches:   7%|▋         | 1400/19992 [11:47<3:57:09,  1.31it/s]"
          ]
        },
        {
          "metadata": {
            "tags": null
          },
          "name": "stdout",
          "output_type": "stream",
          "text": [
            "Created 1400 augmented samples so far\n"
          ]
        },
        {
          "metadata": {
            "tags": null
          },
          "name": "stderr",
          "output_type": "stream",
          "text": [
            "Processing batches:   8%|▊         | 1500/19992 [12:45<3:50:55,  1.33it/s]"
          ]
        },
        {
          "metadata": {
            "tags": null
          },
          "name": "stdout",
          "output_type": "stream",
          "text": [
            "Created 1500 augmented samples so far\n"
          ]
        },
        {
          "metadata": {
            "tags": null
          },
          "name": "stderr",
          "output_type": "stream",
          "text": [
            "Processing batches:   8%|▊         | 1600/19992 [13:37<3:50:52,  1.33it/s]"
          ]
        },
        {
          "metadata": {
            "tags": null
          },
          "name": "stdout",
          "output_type": "stream",
          "text": [
            "Created 1600 augmented samples so far\n"
          ]
        },
        {
          "metadata": {
            "tags": null
          },
          "name": "stderr",
          "output_type": "stream",
          "text": [
            "Processing batches:   9%|▊         | 1700/19992 [14:35<5:13:39,  1.03s/it]"
          ]
        },
        {
          "metadata": {
            "tags": null
          },
          "name": "stdout",
          "output_type": "stream",
          "text": [
            "Created 1700 augmented samples so far\n"
          ]
        },
        {
          "metadata": {
            "tags": null
          },
          "name": "stderr",
          "output_type": "stream",
          "text": [
            "Processing batches:   9%|▉         | 1800/19992 [15:26<1:49:30,  2.77it/s]"
          ]
        },
        {
          "metadata": {
            "tags": null
          },
          "name": "stdout",
          "output_type": "stream",
          "text": [
            "Created 1800 augmented samples so far\n"
          ]
        },
        {
          "metadata": {
            "tags": null
          },
          "name": "stderr",
          "output_type": "stream",
          "text": [
            "Processing batches:  10%|▉         | 1900/19992 [16:08<2:18:03,  2.18it/s]"
          ]
        },
        {
          "metadata": {
            "tags": null
          },
          "name": "stdout",
          "output_type": "stream",
          "text": [
            "Created 1900 augmented samples so far\n"
          ]
        },
        {
          "metadata": {
            "tags": null
          },
          "name": "stderr",
          "output_type": "stream",
          "text": [
            "Processing batches:  10%|▉         | 1999/19992 [17:02<2:33:23,  1.96it/s]"
          ]
        },
        {
          "metadata": {
            "tags": null
          },
          "name": "stdout",
          "output_type": "stream",
          "text": [
            "Created 2000 augmented samples so far\n",
            "Saving intermediate results after processing 1999 batches...\n"
          ]
        },
        {
          "metadata": {
            "tags": null
          },
          "name": "stderr",
          "output_type": "stream",
          "text": [
            "Processing batches:  10%|█         | 2001/19992 [17:04<2:52:56,  1.73it/s]"
          ]
        },
        {
          "metadata": {
            "tags": null
          },
          "name": "stdout",
          "output_type": "stream",
          "text": [
            "Saved 2000 augmented samples to imdb_train_contextual_augmented_intermediate_1999.csv\n"
          ]
        },
        {
          "metadata": {
            "tags": null
          },
          "name": "stderr",
          "output_type": "stream",
          "text": [
            "Processing batches:  11%|█         | 2100/19992 [18:00<2:23:18,  2.08it/s]"
          ]
        },
        {
          "metadata": {
            "tags": null
          },
          "name": "stdout",
          "output_type": "stream",
          "text": [
            "Created 2100 augmented samples so far\n"
          ]
        },
        {
          "metadata": {
            "tags": null
          },
          "name": "stderr",
          "output_type": "stream",
          "text": [
            "Processing batches:  11%|█         | 2200/19992 [18:46<2:22:35,  2.08it/s]"
          ]
        },
        {
          "metadata": {
            "tags": null
          },
          "name": "stdout",
          "output_type": "stream",
          "text": [
            "Created 2200 augmented samples so far\n"
          ]
        },
        {
          "metadata": {
            "tags": null
          },
          "name": "stderr",
          "output_type": "stream",
          "text": [
            "Processing batches:  12%|█▏        | 2300/19992 [19:27<1:55:06,  2.56it/s]"
          ]
        },
        {
          "metadata": {
            "tags": null
          },
          "name": "stdout",
          "output_type": "stream",
          "text": [
            "Created 2300 augmented samples so far\n"
          ]
        },
        {
          "metadata": {
            "tags": null
          },
          "name": "stderr",
          "output_type": "stream",
          "text": [
            "Processing batches:  12%|█▏        | 2400/19992 [20:19<2:30:00,  1.95it/s]"
          ]
        },
        {
          "metadata": {
            "tags": null
          },
          "name": "stdout",
          "output_type": "stream",
          "text": [
            "Created 2400 augmented samples so far\n"
          ]
        },
        {
          "metadata": {
            "tags": null
          },
          "name": "stderr",
          "output_type": "stream",
          "text": [
            "Processing batches:  13%|█▎        | 2501/19992 [21:12<1:22:13,  3.55it/s]"
          ]
        },
        {
          "metadata": {
            "tags": null
          },
          "name": "stdout",
          "output_type": "stream",
          "text": [
            "Created 2500 augmented samples so far\n"
          ]
        },
        {
          "metadata": {
            "tags": null
          },
          "name": "stderr",
          "output_type": "stream",
          "text": [
            "Processing batches:  13%|█▎        | 2600/19992 [21:56<1:59:18,  2.43it/s]"
          ]
        },
        {
          "metadata": {
            "tags": null
          },
          "name": "stdout",
          "output_type": "stream",
          "text": [
            "Created 2600 augmented samples so far\n"
          ]
        },
        {
          "metadata": {
            "tags": null
          },
          "name": "stderr",
          "output_type": "stream",
          "text": [
            "Processing batches:  14%|█▎        | 2700/19992 [22:45<2:06:26,  2.28it/s]"
          ]
        },
        {
          "metadata": {
            "tags": null
          },
          "name": "stdout",
          "output_type": "stream",
          "text": [
            "Created 2700 augmented samples so far\n"
          ]
        },
        {
          "metadata": {
            "tags": null
          },
          "name": "stderr",
          "output_type": "stream",
          "text": [
            "Processing batches:  14%|█▍        | 2800/19992 [23:37<2:08:06,  2.24it/s]"
          ]
        },
        {
          "metadata": {
            "tags": null
          },
          "name": "stdout",
          "output_type": "stream",
          "text": [
            "Created 2800 augmented samples so far\n"
          ]
        },
        {
          "metadata": {
            "tags": null
          },
          "name": "stderr",
          "output_type": "stream",
          "text": [
            "Processing batches:  15%|█▍        | 2900/19992 [24:25<2:28:52,  1.91it/s]"
          ]
        },
        {
          "metadata": {
            "tags": null
          },
          "name": "stdout",
          "output_type": "stream",
          "text": [
            "Created 2900 augmented samples so far\n"
          ]
        },
        {
          "metadata": {
            "tags": null
          },
          "name": "stderr",
          "output_type": "stream",
          "text": [
            "Processing batches:  15%|█▌        | 3000/19992 [25:22<3:20:14,  1.41it/s]"
          ]
        },
        {
          "metadata": {
            "tags": null
          },
          "name": "stdout",
          "output_type": "stream",
          "text": [
            "Created 3000 augmented samples so far\n"
          ]
        },
        {
          "metadata": {
            "tags": null
          },
          "name": "stderr",
          "output_type": "stream",
          "text": [
            "Processing batches:  16%|█▌        | 3101/19992 [26:21<2:05:27,  2.24it/s]"
          ]
        },
        {
          "metadata": {
            "tags": null
          },
          "name": "stdout",
          "output_type": "stream",
          "text": [
            "Created 3100 augmented samples so far\n"
          ]
        },
        {
          "metadata": {
            "tags": null
          },
          "name": "stderr",
          "output_type": "stream",
          "text": [
            "Processing batches:  16%|█▌        | 3200/19992 [27:12<1:54:35,  2.44it/s]"
          ]
        },
        {
          "metadata": {
            "tags": null
          },
          "name": "stdout",
          "output_type": "stream",
          "text": [
            "Created 3200 augmented samples so far\n"
          ]
        },
        {
          "metadata": {
            "tags": null
          },
          "name": "stderr",
          "output_type": "stream",
          "text": [
            "Processing batches:  17%|█▋        | 3300/19992 [28:10<2:17:13,  2.03it/s]"
          ]
        },
        {
          "metadata": {
            "tags": null
          },
          "name": "stdout",
          "output_type": "stream",
          "text": [
            "Created 3300 augmented samples so far\n"
          ]
        },
        {
          "metadata": {
            "tags": null
          },
          "name": "stderr",
          "output_type": "stream",
          "text": [
            "Processing batches:  17%|█▋        | 3400/19992 [29:03<1:45:45,  2.61it/s]"
          ]
        },
        {
          "metadata": {
            "tags": null
          },
          "name": "stdout",
          "output_type": "stream",
          "text": [
            "Created 3400 augmented samples so far\n"
          ]
        },
        {
          "metadata": {
            "tags": null
          },
          "name": "stderr",
          "output_type": "stream",
          "text": [
            "Processing batches:  18%|█▊        | 3500/19992 [29:50<2:06:11,  2.18it/s]"
          ]
        },
        {
          "metadata": {
            "tags": null
          },
          "name": "stdout",
          "output_type": "stream",
          "text": [
            "Created 3500 augmented samples so far\n"
          ]
        },
        {
          "metadata": {
            "tags": null
          },
          "name": "stderr",
          "output_type": "stream",
          "text": [
            "Processing batches:  18%|█▊        | 3600/19992 [30:37<1:42:58,  2.65it/s]"
          ]
        },
        {
          "metadata": {
            "tags": null
          },
          "name": "stdout",
          "output_type": "stream",
          "text": [
            "Created 3600 augmented samples so far\n"
          ]
        },
        {
          "metadata": {
            "tags": null
          },
          "name": "stderr",
          "output_type": "stream",
          "text": [
            "Processing batches:  19%|█▊        | 3700/19992 [31:27<2:09:28,  2.10it/s]"
          ]
        },
        {
          "metadata": {
            "tags": null
          },
          "name": "stdout",
          "output_type": "stream",
          "text": [
            "Created 3700 augmented samples so far\n"
          ]
        },
        {
          "metadata": {
            "tags": null
          },
          "name": "stderr",
          "output_type": "stream",
          "text": [
            "Processing batches:  19%|█▉        | 3800/19992 [32:19<2:06:41,  2.13it/s]"
          ]
        },
        {
          "metadata": {
            "tags": null
          },
          "name": "stdout",
          "output_type": "stream",
          "text": [
            "Created 3800 augmented samples so far\n"
          ]
        },
        {
          "metadata": {
            "tags": null
          },
          "name": "stderr",
          "output_type": "stream",
          "text": [
            "Processing batches:  20%|█▉        | 3901/19992 [33:14<1:40:06,  2.68it/s]"
          ]
        },
        {
          "metadata": {
            "tags": null
          },
          "name": "stdout",
          "output_type": "stream",
          "text": [
            "Created 3900 augmented samples so far\n"
          ]
        },
        {
          "metadata": {
            "tags": null
          },
          "name": "stderr",
          "output_type": "stream",
          "text": [
            "Processing batches:  20%|█▉        | 3998/19992 [34:00<1:31:39,  2.91it/s]"
          ]
        },
        {
          "metadata": {
            "tags": null
          },
          "name": "stdout",
          "output_type": "stream",
          "text": [
            "Saving intermediate results after processing 3998 batches...\n"
          ]
        },
        {
          "metadata": {
            "tags": null
          },
          "name": "stderr",
          "output_type": "stream",
          "text": [
            "\rProcessing batches:  20%|██        | 3999/19992 [34:01<2:59:10,  1.49it/s]"
          ]
        },
        {
          "metadata": {
            "tags": null
          },
          "name": "stdout",
          "output_type": "stream",
          "text": [
            "Saved 3999 augmented samples to imdb_train_contextual_augmented_intermediate_3998.csv\n"
          ]
        },
        {
          "metadata": {
            "tags": null
          },
          "name": "stderr",
          "output_type": "stream",
          "text": [
            "\rProcessing batches:  20%|██        | 4000/19992 [34:01<2:35:29,  1.71it/s]"
          ]
        },
        {
          "metadata": {
            "tags": null
          },
          "name": "stdout",
          "output_type": "stream",
          "text": [
            "Created 4000 augmented samples so far\n"
          ]
        },
        {
          "metadata": {
            "tags": null
          },
          "name": "stderr",
          "output_type": "stream",
          "text": [
            "Processing batches:  21%|██        | 4100/19992 [34:50<2:00:03,  2.21it/s]"
          ]
        },
        {
          "metadata": {
            "tags": null
          },
          "name": "stdout",
          "output_type": "stream",
          "text": [
            "Created 4100 augmented samples so far\n"
          ]
        },
        {
          "metadata": {
            "tags": null
          },
          "name": "stderr",
          "output_type": "stream",
          "text": [
            "Processing batches:  21%|██        | 4200/19992 [35:38<1:39:21,  2.65it/s]"
          ]
        },
        {
          "metadata": {
            "tags": null
          },
          "name": "stdout",
          "output_type": "stream",
          "text": [
            "Created 4200 augmented samples so far\n"
          ]
        },
        {
          "metadata": {
            "tags": null
          },
          "name": "stderr",
          "output_type": "stream",
          "text": [
            "Processing batches:  22%|██▏       | 4300/19992 [36:32<1:41:14,  2.58it/s]"
          ]
        },
        {
          "metadata": {
            "tags": null
          },
          "name": "stdout",
          "output_type": "stream",
          "text": [
            "Created 4300 augmented samples so far\n"
          ]
        },
        {
          "metadata": {
            "tags": null
          },
          "name": "stderr",
          "output_type": "stream",
          "text": [
            "Processing batches:  22%|██▏       | 4401/19992 [37:16<1:39:06,  2.62it/s]"
          ]
        },
        {
          "metadata": {
            "tags": null
          },
          "name": "stdout",
          "output_type": "stream",
          "text": [
            "Created 4400 augmented samples so far\n"
          ]
        },
        {
          "metadata": {
            "tags": null
          },
          "name": "stderr",
          "output_type": "stream",
          "text": [
            "Processing batches:  23%|██▎       | 4500/19992 [38:08<1:39:45,  2.59it/s]"
          ]
        },
        {
          "metadata": {
            "tags": null
          },
          "name": "stdout",
          "output_type": "stream",
          "text": [
            "Created 4500 augmented samples so far\n"
          ]
        },
        {
          "metadata": {
            "tags": null
          },
          "name": "stderr",
          "output_type": "stream",
          "text": [
            "Processing batches:  23%|██▎       | 4601/19992 [39:05<1:26:00,  2.98it/s]"
          ]
        },
        {
          "metadata": {
            "tags": null
          },
          "name": "stdout",
          "output_type": "stream",
          "text": [
            "Created 4600 augmented samples so far\n"
          ]
        },
        {
          "metadata": {
            "tags": null
          },
          "name": "stderr",
          "output_type": "stream",
          "text": [
            "Processing batches:  24%|██▎       | 4700/19992 [39:52<1:01:17,  4.16it/s]"
          ]
        },
        {
          "metadata": {
            "tags": null
          },
          "name": "stdout",
          "output_type": "stream",
          "text": [
            "Created 4700 augmented samples so far\n"
          ]
        },
        {
          "metadata": {
            "tags": null
          },
          "name": "stderr",
          "output_type": "stream",
          "text": [
            "Processing batches:  24%|██▍       | 4801/19992 [40:40<1:27:48,  2.88it/s]"
          ]
        },
        {
          "metadata": {
            "tags": null
          },
          "name": "stdout",
          "output_type": "stream",
          "text": [
            "Created 4800 augmented samples so far\n"
          ]
        },
        {
          "metadata": {
            "tags": null
          },
          "name": "stderr",
          "output_type": "stream",
          "text": [
            "Processing batches:  25%|██▍       | 4900/19992 [41:29<1:43:27,  2.43it/s]"
          ]
        },
        {
          "metadata": {
            "tags": null
          },
          "name": "stdout",
          "output_type": "stream",
          "text": [
            "Created 4900 augmented samples so far\n"
          ]
        },
        {
          "metadata": {
            "tags": null
          },
          "name": "stderr",
          "output_type": "stream",
          "text": [
            "Processing batches:  25%|██▌       | 5000/19992 [42:18<1:56:49,  2.14it/s]"
          ]
        },
        {
          "metadata": {
            "tags": null
          },
          "name": "stdout",
          "output_type": "stream",
          "text": [
            "Created 5000 augmented samples so far\n"
          ]
        },
        {
          "metadata": {
            "tags": null
          },
          "name": "stderr",
          "output_type": "stream",
          "text": [
            "Processing batches:  26%|██▌       | 5100/19992 [43:09<2:24:52,  1.71it/s]"
          ]
        },
        {
          "metadata": {
            "tags": null
          },
          "name": "stdout",
          "output_type": "stream",
          "text": [
            "Created 5100 augmented samples so far\n"
          ]
        },
        {
          "metadata": {
            "tags": null
          },
          "name": "stderr",
          "output_type": "stream",
          "text": [
            "Processing batches:  26%|██▌       | 5200/19992 [44:00<1:49:51,  2.24it/s]"
          ]
        },
        {
          "metadata": {
            "tags": null
          },
          "name": "stdout",
          "output_type": "stream",
          "text": [
            "Created 5200 augmented samples so far\n"
          ]
        },
        {
          "metadata": {
            "tags": null
          },
          "name": "stderr",
          "output_type": "stream",
          "text": [
            "Processing batches:  27%|██▋       | 5300/19992 [44:50<2:27:17,  1.66it/s]"
          ]
        },
        {
          "metadata": {
            "tags": null
          },
          "name": "stdout",
          "output_type": "stream",
          "text": [
            "Created 5300 augmented samples so far\n"
          ]
        },
        {
          "metadata": {
            "tags": null
          },
          "name": "stderr",
          "output_type": "stream",
          "text": [
            "Processing batches:  27%|██▋       | 5399/19992 [45:37<1:55:34,  2.10it/s]"
          ]
        },
        {
          "metadata": {
            "tags": null
          },
          "name": "stdout",
          "output_type": "stream",
          "text": [
            "Created 5400 augmented samples so far\n"
          ]
        },
        {
          "metadata": {
            "tags": null
          },
          "name": "stderr",
          "output_type": "stream",
          "text": [
            "Processing batches:  28%|██▊       | 5500/19992 [46:26<2:45:12,  1.46it/s]"
          ]
        },
        {
          "metadata": {
            "tags": null
          },
          "name": "stdout",
          "output_type": "stream",
          "text": [
            "Created 5500 augmented samples so far\n"
          ]
        },
        {
          "metadata": {
            "tags": null
          },
          "name": "stderr",
          "output_type": "stream",
          "text": [
            "Processing batches:  28%|██▊       | 5600/19992 [47:08<2:59:50,  1.33it/s]"
          ]
        },
        {
          "metadata": {
            "tags": null
          },
          "name": "stdout",
          "output_type": "stream",
          "text": [
            "Created 5600 augmented samples so far\n"
          ]
        },
        {
          "metadata": {
            "tags": null
          },
          "name": "stderr",
          "output_type": "stream",
          "text": [
            "Processing batches:  29%|██▊       | 5700/19992 [48:03<1:43:47,  2.29it/s]"
          ]
        },
        {
          "metadata": {
            "tags": null
          },
          "name": "stdout",
          "output_type": "stream",
          "text": [
            "Created 5700 augmented samples so far\n"
          ]
        },
        {
          "metadata": {
            "tags": null
          },
          "name": "stderr",
          "output_type": "stream",
          "text": [
            "Processing batches:  29%|██▉       | 5800/19992 [48:52<1:01:46,  3.83it/s]"
          ]
        },
        {
          "metadata": {
            "tags": null
          },
          "name": "stdout",
          "output_type": "stream",
          "text": [
            "Created 5800 augmented samples so far\n"
          ]
        },
        {
          "output_type": "stream",
          "name": "stderr",
          "text": [
            "Processing batches:  30%|██▉       | 5901/19992 [49:44<2:18:08,  1.70it/s]"
          ]
        },
        {
          "output_type": "stream",
          "name": "stdout",
          "text": [
            "Created 5900 augmented samples so far\n"
          ]
        },
        {
          "output_type": "stream",
          "name": "stderr",
          "text": [
            "Processing batches:  30%|██▉       | 5997/19992 [50:26<2:03:13,  1.89it/s]"
          ]
        },
        {
          "output_type": "stream",
          "name": "stdout",
          "text": [
            "Saving intermediate results after processing 5997 batches...\n"
          ]
        },
        {
          "output_type": "stream",
          "name": "stderr",
          "text": [
            "\rProcessing batches:  30%|███       | 5998/19992 [50:28<3:43:04,  1.05it/s]"
          ]
        },
        {
          "output_type": "stream",
          "name": "stdout",
          "text": [
            "Saved 5998 augmented samples to imdb_train_contextual_augmented_intermediate_5997.csv\n"
          ]
        },
        {
          "output_type": "stream",
          "name": "stderr",
          "text": [
            "Processing batches:  30%|███       | 6000/19992 [50:29<2:45:43,  1.41it/s]"
          ]
        },
        {
          "output_type": "stream",
          "name": "stdout",
          "text": [
            "Created 6000 augmented samples so far\n"
          ]
        },
        {
          "output_type": "stream",
          "name": "stderr",
          "text": [
            "Processing batches:  31%|███       | 6100/19992 [51:23<2:02:53,  1.88it/s]"
          ]
        },
        {
          "output_type": "stream",
          "name": "stdout",
          "text": [
            "Created 6100 augmented samples so far\n"
          ]
        },
        {
          "output_type": "stream",
          "name": "stderr",
          "text": [
            "Processing batches:  31%|███       | 6200/19992 [52:09<3:19:41,  1.15it/s]"
          ]
        },
        {
          "output_type": "stream",
          "name": "stdout",
          "text": [
            "Created 6200 augmented samples so far\n"
          ]
        },
        {
          "output_type": "stream",
          "name": "stderr",
          "text": [
            "Processing batches:  32%|███▏      | 6300/19992 [52:53<1:22:35,  2.76it/s]"
          ]
        },
        {
          "output_type": "stream",
          "name": "stdout",
          "text": [
            "Created 6300 augmented samples so far\n"
          ]
        },
        {
          "output_type": "stream",
          "name": "stderr",
          "text": [
            "Processing batches:  32%|███▏      | 6400/19992 [53:51<1:22:33,  2.74it/s]"
          ]
        },
        {
          "output_type": "stream",
          "name": "stdout",
          "text": [
            "Created 6400 augmented samples so far\n"
          ]
        },
        {
          "output_type": "stream",
          "name": "stderr",
          "text": [
            "Processing batches:  33%|███▎      | 6500/19992 [54:45<1:42:23,  2.20it/s]"
          ]
        },
        {
          "output_type": "stream",
          "name": "stdout",
          "text": [
            "Created 6500 augmented samples so far\n"
          ]
        },
        {
          "output_type": "stream",
          "name": "stderr",
          "text": [
            "Processing batches:  33%|███▎      | 6600/19992 [55:38<1:41:52,  2.19it/s]"
          ]
        },
        {
          "output_type": "stream",
          "name": "stdout",
          "text": [
            "Created 6600 augmented samples so far\n"
          ]
        },
        {
          "output_type": "stream",
          "name": "stderr",
          "text": [
            "Processing batches:  34%|███▎      | 6701/19992 [56:39<1:12:03,  3.07it/s]"
          ]
        },
        {
          "output_type": "stream",
          "name": "stdout",
          "text": [
            "Created 6700 augmented samples so far\n"
          ]
        },
        {
          "output_type": "stream",
          "name": "stderr",
          "text": [
            "Processing batches:  34%|███▍      | 6800/19992 [57:27<1:36:38,  2.28it/s]"
          ]
        },
        {
          "output_type": "stream",
          "name": "stdout",
          "text": [
            "Created 6800 augmented samples so far\n"
          ]
        },
        {
          "output_type": "stream",
          "name": "stderr",
          "text": [
            "Processing batches:  35%|███▍      | 6900/19992 [58:21<2:26:59,  1.48it/s]"
          ]
        },
        {
          "output_type": "stream",
          "name": "stdout",
          "text": [
            "Created 6900 augmented samples so far\n"
          ]
        },
        {
          "output_type": "stream",
          "name": "stderr",
          "text": [
            "Processing batches:  35%|███▌      | 7000/19992 [59:13<1:29:54,  2.41it/s]"
          ]
        },
        {
          "output_type": "stream",
          "name": "stdout",
          "text": [
            "Created 7000 augmented samples so far\n"
          ]
        },
        {
          "output_type": "stream",
          "name": "stderr",
          "text": [
            "Processing batches:  36%|███▌      | 7100/19992 [1:00:06<2:36:29,  1.37it/s]"
          ]
        },
        {
          "output_type": "stream",
          "name": "stdout",
          "text": [
            "Created 7100 augmented samples so far\n"
          ]
        },
        {
          "output_type": "stream",
          "name": "stderr",
          "text": [
            "Processing batches:  36%|███▌      | 7200/19992 [1:00:52<2:04:19,  1.71it/s]"
          ]
        },
        {
          "output_type": "stream",
          "name": "stdout",
          "text": [
            "Created 7200 augmented samples so far\n"
          ]
        },
        {
          "output_type": "stream",
          "name": "stderr",
          "text": [
            "Processing batches:  37%|███▋      | 7300/19992 [1:01:43<1:59:16,  1.77it/s]"
          ]
        },
        {
          "output_type": "stream",
          "name": "stdout",
          "text": [
            "Created 7300 augmented samples so far\n"
          ]
        },
        {
          "output_type": "stream",
          "name": "stderr",
          "text": [
            "Processing batches:  37%|███▋      | 7400/19992 [1:02:40<1:22:46,  2.54it/s]"
          ]
        },
        {
          "output_type": "stream",
          "name": "stdout",
          "text": [
            "Created 7400 augmented samples so far\n"
          ]
        },
        {
          "output_type": "stream",
          "name": "stderr",
          "text": [
            "Processing batches:  38%|███▊      | 7500/19992 [1:03:29<1:22:57,  2.51it/s]"
          ]
        },
        {
          "output_type": "stream",
          "name": "stdout",
          "text": [
            "Created 7500 augmented samples so far\n"
          ]
        },
        {
          "output_type": "stream",
          "name": "stderr",
          "text": [
            "Processing batches:  38%|███▊      | 7600/19992 [1:04:21<1:44:27,  1.98it/s]"
          ]
        },
        {
          "output_type": "stream",
          "name": "stdout",
          "text": [
            "Created 7600 augmented samples so far\n"
          ]
        },
        {
          "output_type": "stream",
          "name": "stderr",
          "text": [
            "Processing batches:  39%|███▊      | 7701/19992 [1:05:10<50:25,  4.06it/s]"
          ]
        },
        {
          "output_type": "stream",
          "name": "stdout",
          "text": [
            "Created 7700 augmented samples so far\n"
          ]
        },
        {
          "output_type": "stream",
          "name": "stderr",
          "text": [
            "Processing batches:  39%|███▉      | 7800/19992 [1:06:01<2:10:36,  1.56it/s]"
          ]
        },
        {
          "output_type": "stream",
          "name": "stdout",
          "text": [
            "Created 7800 augmented samples so far\n"
          ]
        },
        {
          "output_type": "stream",
          "name": "stderr",
          "text": [
            "Processing batches:  40%|███▉      | 7900/19992 [1:06:44<1:07:29,  2.99it/s]"
          ]
        },
        {
          "output_type": "stream",
          "name": "stdout",
          "text": [
            "Created 7900 augmented samples so far\n"
          ]
        },
        {
          "output_type": "stream",
          "name": "stderr",
          "text": [
            "Processing batches:  40%|███▉      | 7996/19992 [1:07:36<2:54:45,  1.14it/s]"
          ]
        },
        {
          "output_type": "stream",
          "name": "stdout",
          "text": [
            "Saving intermediate results after processing 7996 batches...\n"
          ]
        },
        {
          "output_type": "stream",
          "name": "stderr",
          "text": [
            "\rProcessing batches:  40%|████      | 7997/19992 [1:07:38<4:12:14,  1.26s/it]"
          ]
        },
        {
          "output_type": "stream",
          "name": "stdout",
          "text": [
            "Saved 7997 augmented samples to imdb_train_contextual_augmented_intermediate_7996.csv\n"
          ]
        },
        {
          "output_type": "stream",
          "name": "stderr",
          "text": [
            "Processing batches:  40%|████      | 8000/19992 [1:07:39<2:18:32,  1.44it/s]"
          ]
        },
        {
          "output_type": "stream",
          "name": "stdout",
          "text": [
            "Created 8000 augmented samples so far\n"
          ]
        },
        {
          "output_type": "stream",
          "name": "stderr",
          "text": [
            "Processing batches:  41%|████      | 8100/19992 [1:08:34<1:08:01,  2.91it/s]"
          ]
        },
        {
          "output_type": "stream",
          "name": "stdout",
          "text": [
            "Created 8100 augmented samples so far\n"
          ]
        },
        {
          "output_type": "stream",
          "name": "stderr",
          "text": [
            "Processing batches:  41%|████      | 8200/19992 [1:09:31<2:37:04,  1.25it/s]"
          ]
        },
        {
          "output_type": "stream",
          "name": "stdout",
          "text": [
            "Created 8200 augmented samples so far\n"
          ]
        },
        {
          "output_type": "stream",
          "name": "stderr",
          "text": [
            "Processing batches:  42%|████▏     | 8300/19992 [1:10:22<1:41:15,  1.92it/s]"
          ]
        },
        {
          "output_type": "stream",
          "name": "stdout",
          "text": [
            "Created 8300 augmented samples so far\n"
          ]
        },
        {
          "output_type": "stream",
          "name": "stderr",
          "text": [
            "Processing batches:  42%|████▏     | 8400/19992 [1:11:15<1:58:49,  1.63it/s]"
          ]
        },
        {
          "output_type": "stream",
          "name": "stdout",
          "text": [
            "Created 8400 augmented samples so far\n"
          ]
        },
        {
          "output_type": "stream",
          "name": "stderr",
          "text": [
            "Processing batches:  43%|████▎     | 8500/19992 [1:12:08<1:27:43,  2.18it/s]"
          ]
        },
        {
          "output_type": "stream",
          "name": "stdout",
          "text": [
            "Created 8500 augmented samples so far\n"
          ]
        },
        {
          "output_type": "stream",
          "name": "stderr",
          "text": [
            "Processing batches:  43%|████▎     | 8600/19992 [1:12:55<2:05:11,  1.52it/s]"
          ]
        },
        {
          "output_type": "stream",
          "name": "stdout",
          "text": [
            "Created 8600 augmented samples so far\n"
          ]
        },
        {
          "output_type": "stream",
          "name": "stderr",
          "text": [
            "Processing batches:  44%|████▎     | 8700/19992 [1:13:44<1:17:16,  2.44it/s]"
          ]
        },
        {
          "output_type": "stream",
          "name": "stdout",
          "text": [
            "Created 8700 augmented samples so far\n"
          ]
        },
        {
          "output_type": "stream",
          "name": "stderr",
          "text": [
            "Processing batches:  44%|████▍     | 8800/19992 [1:14:40<1:26:57,  2.15it/s]"
          ]
        },
        {
          "output_type": "stream",
          "name": "stdout",
          "text": [
            "Created 8800 augmented samples so far\n"
          ]
        },
        {
          "output_type": "stream",
          "name": "stderr",
          "text": [
            "Processing batches:  45%|████▍     | 8900/19992 [1:15:23<1:38:07,  1.88it/s]"
          ]
        },
        {
          "output_type": "stream",
          "name": "stdout",
          "text": [
            "Created 8900 augmented samples so far\n"
          ]
        },
        {
          "output_type": "stream",
          "name": "stderr",
          "text": [
            "Processing batches:  45%|████▌     | 9000/19992 [1:16:12<2:35:59,  1.17it/s]"
          ]
        },
        {
          "output_type": "stream",
          "name": "stdout",
          "text": [
            "Created 9000 augmented samples so far\n"
          ]
        },
        {
          "output_type": "stream",
          "name": "stderr",
          "text": [
            "Processing batches:  46%|████▌     | 9100/19992 [1:17:00<1:47:51,  1.68it/s]"
          ]
        },
        {
          "output_type": "stream",
          "name": "stdout",
          "text": [
            "Created 9100 augmented samples so far\n"
          ]
        },
        {
          "output_type": "stream",
          "name": "stderr",
          "text": [
            "Processing batches:  46%|████▌     | 9200/19992 [1:17:56<1:28:59,  2.02it/s]"
          ]
        },
        {
          "output_type": "stream",
          "name": "stdout",
          "text": [
            "Created 9200 augmented samples so far\n"
          ]
        },
        {
          "output_type": "stream",
          "name": "stderr",
          "text": [
            "Processing batches:  47%|████▋     | 9300/19992 [1:18:40<51:04,  3.49it/s]"
          ]
        },
        {
          "output_type": "stream",
          "name": "stdout",
          "text": [
            "Created 9300 augmented samples so far\n"
          ]
        },
        {
          "output_type": "stream",
          "name": "stderr",
          "text": [
            "Processing batches:  47%|████▋     | 9400/19992 [1:19:31<2:11:39,  1.34it/s]"
          ]
        },
        {
          "output_type": "stream",
          "name": "stdout",
          "text": [
            "Created 9400 augmented samples so far\n"
          ]
        },
        {
          "output_type": "stream",
          "name": "stderr",
          "text": [
            "Processing batches:  48%|████▊     | 9500/19992 [1:20:23<59:41,  2.93it/s]  "
          ]
        },
        {
          "output_type": "stream",
          "name": "stdout",
          "text": [
            "Created 9500 augmented samples so far\n"
          ]
        },
        {
          "output_type": "stream",
          "name": "stderr",
          "text": [
            "Processing batches:  48%|████▊     | 9600/19992 [1:21:21<2:03:01,  1.41it/s]"
          ]
        },
        {
          "output_type": "stream",
          "name": "stdout",
          "text": [
            "Created 9600 augmented samples so far\n"
          ]
        },
        {
          "output_type": "stream",
          "name": "stderr",
          "text": [
            "Processing batches:  49%|████▊     | 9700/19992 [1:22:14<1:36:48,  1.77it/s]"
          ]
        },
        {
          "output_type": "stream",
          "name": "stdout",
          "text": [
            "Created 9700 augmented samples so far\n"
          ]
        },
        {
          "output_type": "stream",
          "name": "stderr",
          "text": [
            "Processing batches:  49%|████▉     | 9800/19992 [1:23:00<55:30,  3.06it/s]"
          ]
        },
        {
          "output_type": "stream",
          "name": "stdout",
          "text": [
            "Created 9800 augmented samples so far\n"
          ]
        },
        {
          "output_type": "stream",
          "name": "stderr",
          "text": [
            "Processing batches:  50%|████▉     | 9900/19992 [1:23:52<1:20:11,  2.10it/s]"
          ]
        },
        {
          "output_type": "stream",
          "name": "stdout",
          "text": [
            "Created 9900 augmented samples so far\n"
          ]
        },
        {
          "output_type": "stream",
          "name": "stderr",
          "text": [
            "Processing batches:  50%|████▉     | 9995/19992 [1:24:42<51:19,  3.25it/s]"
          ]
        },
        {
          "output_type": "stream",
          "name": "stdout",
          "text": [
            "Saving intermediate results after processing 9995 batches...\n"
          ]
        },
        {
          "output_type": "stream",
          "name": "stderr",
          "text": [
            "\rProcessing batches:  50%|█████     | 9996/19992 [1:24:44<2:23:13,  1.16it/s]"
          ]
        },
        {
          "output_type": "stream",
          "name": "stdout",
          "text": [
            "Saved 9996 augmented samples to imdb_train_contextual_augmented_intermediate_9995.csv\n"
          ]
        },
        {
          "output_type": "stream",
          "name": "stderr",
          "text": [
            "Processing batches:  50%|█████     | 10000/19992 [1:24:45<1:07:23,  2.47it/s]"
          ]
        },
        {
          "output_type": "stream",
          "name": "stdout",
          "text": [
            "Created 10000 augmented samples so far\n"
          ]
        },
        {
          "output_type": "stream",
          "name": "stderr",
          "text": [
            "Processing batches:  51%|█████     | 10100/19992 [1:25:33<1:03:38,  2.59it/s]"
          ]
        },
        {
          "output_type": "stream",
          "name": "stdout",
          "text": [
            "Created 10100 augmented samples so far\n"
          ]
        },
        {
          "output_type": "stream",
          "name": "stderr",
          "text": [
            "Processing batches:  51%|█████     | 10200/19992 [1:26:36<2:16:22,  1.20it/s]"
          ]
        },
        {
          "output_type": "stream",
          "name": "stdout",
          "text": [
            "Created 10200 augmented samples so far\n"
          ]
        },
        {
          "output_type": "stream",
          "name": "stderr",
          "text": [
            "Processing batches:  52%|█████▏    | 10300/19992 [1:27:29<1:00:59,  2.65it/s]"
          ]
        },
        {
          "output_type": "stream",
          "name": "stdout",
          "text": [
            "Created 10300 augmented samples so far\n"
          ]
        },
        {
          "output_type": "stream",
          "name": "stderr",
          "text": [
            "Processing batches:  52%|█████▏    | 10400/19992 [1:28:22<1:45:43,  1.51it/s]"
          ]
        },
        {
          "output_type": "stream",
          "name": "stdout",
          "text": [
            "Created 10400 augmented samples so far\n"
          ]
        },
        {
          "output_type": "stream",
          "name": "stderr",
          "text": [
            "Processing batches:  53%|█████▎    | 10500/19992 [1:29:10<51:09,  3.09it/s]"
          ]
        },
        {
          "output_type": "stream",
          "name": "stdout",
          "text": [
            "Created 10500 augmented samples so far\n"
          ]
        },
        {
          "output_type": "stream",
          "name": "stderr",
          "text": [
            "Processing batches:  53%|█████▎    | 10600/19992 [1:30:00<1:14:14,  2.11it/s]"
          ]
        },
        {
          "output_type": "stream",
          "name": "stdout",
          "text": [
            "Created 10600 augmented samples so far\n"
          ]
        },
        {
          "output_type": "stream",
          "name": "stderr",
          "text": [
            "Processing batches:  54%|█████▎    | 10700/19992 [1:30:49<57:32,  2.69it/s]  "
          ]
        },
        {
          "output_type": "stream",
          "name": "stdout",
          "text": [
            "Created 10700 augmented samples so far\n"
          ]
        },
        {
          "output_type": "stream",
          "name": "stderr",
          "text": [
            "Processing batches:  54%|█████▍    | 10800/19992 [1:31:45<2:09:44,  1.18it/s]"
          ]
        },
        {
          "output_type": "stream",
          "name": "stdout",
          "text": [
            "Created 10800 augmented samples so far\n"
          ]
        },
        {
          "output_type": "stream",
          "name": "stderr",
          "text": [
            "Processing batches:  55%|█████▍    | 10900/19992 [1:32:38<1:07:28,  2.25it/s]"
          ]
        },
        {
          "output_type": "stream",
          "name": "stdout",
          "text": [
            "Created 10900 augmented samples so far\n"
          ]
        },
        {
          "output_type": "stream",
          "name": "stderr",
          "text": [
            "Processing batches:  55%|█████▌    | 11000/19992 [1:33:32<1:00:06,  2.49it/s]"
          ]
        },
        {
          "output_type": "stream",
          "name": "stdout",
          "text": [
            "Created 11000 augmented samples so far\n"
          ]
        },
        {
          "output_type": "stream",
          "name": "stderr",
          "text": [
            "Processing batches:  56%|█████▌    | 11100/19992 [1:34:25<51:09,  2.90it/s]"
          ]
        },
        {
          "output_type": "stream",
          "name": "stdout",
          "text": [
            "Created 11100 augmented samples so far\n"
          ]
        },
        {
          "output_type": "stream",
          "name": "stderr",
          "text": [
            "Processing batches:  56%|█████▌    | 11200/19992 [1:35:19<56:14,  2.61it/s]  "
          ]
        },
        {
          "output_type": "stream",
          "name": "stdout",
          "text": [
            "Created 11200 augmented samples so far\n"
          ]
        },
        {
          "output_type": "stream",
          "name": "stderr",
          "text": [
            "Processing batches:  57%|█████▋    | 11300/19992 [1:36:08<1:23:15,  1.74it/s]"
          ]
        },
        {
          "output_type": "stream",
          "name": "stdout",
          "text": [
            "Created 11300 augmented samples so far\n"
          ]
        },
        {
          "output_type": "stream",
          "name": "stderr",
          "text": [
            "Processing batches:  57%|█████▋    | 11400/19992 [1:37:04<1:27:51,  1.63it/s]"
          ]
        },
        {
          "output_type": "stream",
          "name": "stdout",
          "text": [
            "Created 11400 augmented samples so far\n"
          ]
        },
        {
          "output_type": "stream",
          "name": "stderr",
          "text": [
            "Processing batches:  58%|█████▊    | 11500/19992 [1:37:49<1:15:22,  1.88it/s]"
          ]
        },
        {
          "output_type": "stream",
          "name": "stdout",
          "text": [
            "Created 11500 augmented samples so far\n"
          ]
        },
        {
          "output_type": "stream",
          "name": "stderr",
          "text": [
            "Processing batches:  58%|█████▊    | 11600/19992 [1:38:37<1:26:43,  1.61it/s]"
          ]
        },
        {
          "output_type": "stream",
          "name": "stdout",
          "text": [
            "Created 11600 augmented samples so far\n"
          ]
        },
        {
          "output_type": "stream",
          "name": "stderr",
          "text": [
            "Processing batches:  59%|█████▊    | 11700/19992 [1:39:30<1:24:28,  1.64it/s]"
          ]
        },
        {
          "output_type": "stream",
          "name": "stdout",
          "text": [
            "Created 11700 augmented samples so far\n"
          ]
        },
        {
          "output_type": "stream",
          "name": "stderr",
          "text": [
            "Processing batches:  59%|█████▉    | 11800/19992 [1:40:21<59:57,  2.28it/s]"
          ]
        },
        {
          "output_type": "stream",
          "name": "stdout",
          "text": [
            "Created 11800 augmented samples so far\n"
          ]
        },
        {
          "output_type": "stream",
          "name": "stderr",
          "text": [
            "Processing batches:  60%|█████▉    | 11900/19992 [1:41:11<1:15:40,  1.78it/s]"
          ]
        },
        {
          "output_type": "stream",
          "name": "stdout",
          "text": [
            "Created 11900 augmented samples so far\n"
          ]
        },
        {
          "output_type": "stream",
          "name": "stderr",
          "text": [
            "Processing batches:  60%|█████▉    | 11994/19992 [1:42:00<1:16:27,  1.74it/s]"
          ]
        },
        {
          "output_type": "stream",
          "name": "stdout",
          "text": [
            "Saving intermediate results after processing 11994 batches...\n"
          ]
        },
        {
          "output_type": "stream",
          "name": "stderr",
          "text": [
            "\rProcessing batches:  60%|█████▉    | 11995/19992 [1:42:02<2:02:05,  1.09it/s]"
          ]
        },
        {
          "output_type": "stream",
          "name": "stdout",
          "text": [
            "Saved 11995 augmented samples to imdb_train_contextual_augmented_intermediate_11994.csv\n"
          ]
        },
        {
          "output_type": "stream",
          "name": "stderr",
          "text": [
            "Processing batches:  60%|██████    | 12000/19992 [1:42:04<1:04:47,  2.06it/s]"
          ]
        },
        {
          "output_type": "stream",
          "name": "stdout",
          "text": [
            "Created 12000 augmented samples so far\n"
          ]
        },
        {
          "output_type": "stream",
          "name": "stderr",
          "text": [
            "Processing batches:  61%|██████    | 12100/19992 [1:42:54<53:18,  2.47it/s]"
          ]
        },
        {
          "output_type": "stream",
          "name": "stdout",
          "text": [
            "Created 12100 augmented samples so far\n"
          ]
        },
        {
          "output_type": "stream",
          "name": "stderr",
          "text": [
            "Processing batches:  61%|██████    | 12200/19992 [1:43:47<42:01,  3.09it/s]"
          ]
        },
        {
          "output_type": "stream",
          "name": "stdout",
          "text": [
            "Created 12200 augmented samples so far\n"
          ]
        },
        {
          "output_type": "stream",
          "name": "stderr",
          "text": [
            "Processing batches:  62%|██████▏   | 12300/19992 [1:44:37<1:20:00,  1.60it/s]"
          ]
        },
        {
          "output_type": "stream",
          "name": "stdout",
          "text": [
            "Created 12300 augmented samples so far\n"
          ]
        },
        {
          "output_type": "stream",
          "name": "stderr",
          "text": [
            "Processing batches:  62%|██████▏   | 12400/19992 [1:45:22<34:41,  3.65it/s]"
          ]
        },
        {
          "output_type": "stream",
          "name": "stdout",
          "text": [
            "Created 12400 augmented samples so far\n"
          ]
        },
        {
          "output_type": "stream",
          "name": "stderr",
          "text": [
            "Processing batches:  63%|██████▎   | 12500/19992 [1:46:11<1:06:53,  1.87it/s]"
          ]
        },
        {
          "output_type": "stream",
          "name": "stdout",
          "text": [
            "Created 12500 augmented samples so far\n"
          ]
        },
        {
          "output_type": "stream",
          "name": "stderr",
          "text": [
            "Processing batches:  63%|██████▎   | 12600/19992 [1:46:58<1:08:59,  1.79it/s]"
          ]
        },
        {
          "output_type": "stream",
          "name": "stdout",
          "text": [
            "Created 12600 augmented samples so far\n"
          ]
        },
        {
          "output_type": "stream",
          "name": "stderr",
          "text": [
            "Processing batches:  64%|██████▎   | 12700/19992 [1:47:50<1:08:35,  1.77it/s]"
          ]
        },
        {
          "output_type": "stream",
          "name": "stdout",
          "text": [
            "Created 12700 augmented samples so far\n"
          ]
        },
        {
          "output_type": "stream",
          "name": "stderr",
          "text": [
            "Processing batches:  64%|██████▍   | 12800/19992 [1:48:40<52:57,  2.26it/s]"
          ]
        },
        {
          "output_type": "stream",
          "name": "stdout",
          "text": [
            "Created 12800 augmented samples so far\n"
          ]
        },
        {
          "output_type": "stream",
          "name": "stderr",
          "text": [
            "Processing batches:  65%|██████▍   | 12900/19992 [1:49:31<49:37,  2.38it/s]"
          ]
        },
        {
          "output_type": "stream",
          "name": "stdout",
          "text": [
            "Created 12900 augmented samples so far\n"
          ]
        },
        {
          "output_type": "stream",
          "name": "stderr",
          "text": [
            "Processing batches:  65%|██████▌   | 13000/19992 [1:50:16<45:25,  2.57it/s]"
          ]
        },
        {
          "output_type": "stream",
          "name": "stdout",
          "text": [
            "Created 13000 augmented samples so far\n"
          ]
        },
        {
          "output_type": "stream",
          "name": "stderr",
          "text": [
            "Processing batches:  66%|██████▌   | 13100/19992 [1:51:11<57:18,  2.00it/s]  "
          ]
        },
        {
          "output_type": "stream",
          "name": "stdout",
          "text": [
            "Created 13100 augmented samples so far\n"
          ]
        },
        {
          "output_type": "stream",
          "name": "stderr",
          "text": [
            "Processing batches:  66%|██████▌   | 13200/19992 [1:52:02<45:25,  2.49it/s]"
          ]
        },
        {
          "output_type": "stream",
          "name": "stdout",
          "text": [
            "Created 13200 augmented samples so far\n"
          ]
        },
        {
          "output_type": "stream",
          "name": "stderr",
          "text": [
            "Processing batches:  67%|██████▋   | 13300/19992 [1:52:53<33:30,  3.33it/s]"
          ]
        },
        {
          "output_type": "stream",
          "name": "stdout",
          "text": [
            "Created 13300 augmented samples so far\n"
          ]
        },
        {
          "output_type": "stream",
          "name": "stderr",
          "text": [
            "Processing batches:  67%|██████▋   | 13400/19992 [1:53:42<46:52,  2.34it/s]"
          ]
        },
        {
          "output_type": "stream",
          "name": "stdout",
          "text": [
            "Created 13400 augmented samples so far\n"
          ]
        },
        {
          "output_type": "stream",
          "name": "stderr",
          "text": [
            "Processing batches:  68%|██████▊   | 13500/19992 [1:54:38<1:00:41,  1.78it/s]"
          ]
        },
        {
          "output_type": "stream",
          "name": "stdout",
          "text": [
            "Created 13500 augmented samples so far\n"
          ]
        },
        {
          "output_type": "stream",
          "name": "stderr",
          "text": [
            "Processing batches:  68%|██████▊   | 13600/19992 [1:55:24<45:59,  2.32it/s]  "
          ]
        },
        {
          "output_type": "stream",
          "name": "stdout",
          "text": [
            "Created 13600 augmented samples so far\n"
          ]
        },
        {
          "output_type": "stream",
          "name": "stderr",
          "text": [
            "Processing batches:  69%|██████▊   | 13700/19992 [1:56:12<37:45,  2.78it/s]"
          ]
        },
        {
          "output_type": "stream",
          "name": "stdout",
          "text": [
            "Created 13700 augmented samples so far\n"
          ]
        },
        {
          "output_type": "stream",
          "name": "stderr",
          "text": [
            "Processing batches:  69%|██████▉   | 13800/19992 [1:57:02<1:02:35,  1.65it/s]"
          ]
        },
        {
          "output_type": "stream",
          "name": "stdout",
          "text": [
            "Created 13800 augmented samples so far\n"
          ]
        },
        {
          "output_type": "stream",
          "name": "stderr",
          "text": [
            "Processing batches:  70%|██████▉   | 13900/19992 [1:57:54<50:38,  2.00it/s]"
          ]
        },
        {
          "output_type": "stream",
          "name": "stdout",
          "text": [
            "Created 13900 augmented samples so far\n"
          ]
        },
        {
          "output_type": "stream",
          "name": "stderr",
          "text": [
            "Processing batches:  70%|██████▉   | 13993/19992 [1:58:38<1:11:35,  1.40it/s]"
          ]
        },
        {
          "output_type": "stream",
          "name": "stdout",
          "text": [
            "Saving intermediate results after processing 13993 batches...\n"
          ]
        },
        {
          "output_type": "stream",
          "name": "stderr",
          "text": [
            "\rProcessing batches:  70%|██████▉   | 13994/19992 [1:58:39<1:43:40,  1.04s/it]"
          ]
        },
        {
          "output_type": "stream",
          "name": "stdout",
          "text": [
            "Saved 13994 augmented samples to imdb_train_contextual_augmented_intermediate_13993.csv\n"
          ]
        },
        {
          "output_type": "stream",
          "name": "stderr",
          "text": [
            "Processing batches:  70%|███████   | 14000/19992 [1:58:41<41:32,  2.40it/s]"
          ]
        },
        {
          "output_type": "stream",
          "name": "stdout",
          "text": [
            "Created 14000 augmented samples so far\n"
          ]
        },
        {
          "output_type": "stream",
          "name": "stderr",
          "text": [
            "Processing batches:  71%|███████   | 14100/19992 [1:59:24<47:51,  2.05it/s]"
          ]
        },
        {
          "output_type": "stream",
          "name": "stdout",
          "text": [
            "Created 14100 augmented samples so far\n"
          ]
        },
        {
          "output_type": "stream",
          "name": "stderr",
          "text": [
            "Processing batches:  71%|███████   | 14200/19992 [2:00:11<40:17,  2.40it/s]"
          ]
        },
        {
          "output_type": "stream",
          "name": "stdout",
          "text": [
            "Created 14200 augmented samples so far\n"
          ]
        },
        {
          "output_type": "stream",
          "name": "stderr",
          "text": [
            "Processing batches:  72%|███████▏  | 14300/19992 [2:01:00<44:35,  2.13it/s]"
          ]
        },
        {
          "output_type": "stream",
          "name": "stdout",
          "text": [
            "Created 14300 augmented samples so far\n"
          ]
        },
        {
          "output_type": "stream",
          "name": "stderr",
          "text": [
            "Processing batches:  72%|███████▏  | 14400/19992 [2:01:49<37:24,  2.49it/s]"
          ]
        },
        {
          "output_type": "stream",
          "name": "stdout",
          "text": [
            "Created 14400 augmented samples so far\n"
          ]
        },
        {
          "output_type": "stream",
          "name": "stderr",
          "text": [
            "Processing batches:  73%|███████▎  | 14500/19992 [2:02:37<41:02,  2.23it/s]"
          ]
        },
        {
          "output_type": "stream",
          "name": "stdout",
          "text": [
            "Created 14500 augmented samples so far\n"
          ]
        },
        {
          "output_type": "stream",
          "name": "stderr",
          "text": [
            "Processing batches:  73%|███████▎  | 14600/19992 [2:03:25<28:18,  3.18it/s]"
          ]
        },
        {
          "output_type": "stream",
          "name": "stdout",
          "text": [
            "Created 14600 augmented samples so far\n"
          ]
        },
        {
          "output_type": "stream",
          "name": "stderr",
          "text": [
            "Processing batches:  74%|███████▎  | 14700/19992 [2:04:14<45:37,  1.93it/s]"
          ]
        },
        {
          "output_type": "stream",
          "name": "stdout",
          "text": [
            "Created 14700 augmented samples so far\n"
          ]
        },
        {
          "output_type": "stream",
          "name": "stderr",
          "text": [
            "Processing batches:  74%|███████▍  | 14800/19992 [2:05:06<1:02:18,  1.39it/s]"
          ]
        },
        {
          "output_type": "stream",
          "name": "stdout",
          "text": [
            "Created 14800 augmented samples so far\n"
          ]
        },
        {
          "output_type": "stream",
          "name": "stderr",
          "text": [
            "Processing batches:  75%|███████▍  | 14900/19992 [2:05:47<28:39,  2.96it/s]"
          ]
        },
        {
          "output_type": "stream",
          "name": "stdout",
          "text": [
            "Created 14900 augmented samples so far\n"
          ]
        },
        {
          "output_type": "stream",
          "name": "stderr",
          "text": [
            "Processing batches:  75%|███████▌  | 15000/19992 [2:06:39<40:30,  2.05it/s]"
          ]
        },
        {
          "output_type": "stream",
          "name": "stdout",
          "text": [
            "Created 15000 augmented samples so far\n"
          ]
        },
        {
          "output_type": "stream",
          "name": "stderr",
          "text": [
            "Processing batches:  76%|███████▌  | 15100/19992 [2:07:36<43:17,  1.88it/s]"
          ]
        },
        {
          "output_type": "stream",
          "name": "stdout",
          "text": [
            "Created 15100 augmented samples so far\n"
          ]
        },
        {
          "output_type": "stream",
          "name": "stderr",
          "text": [
            "Processing batches:  76%|███████▌  | 15200/19992 [2:08:28<30:27,  2.62it/s]"
          ]
        },
        {
          "output_type": "stream",
          "name": "stdout",
          "text": [
            "Created 15200 augmented samples so far\n"
          ]
        },
        {
          "output_type": "stream",
          "name": "stderr",
          "text": [
            "Processing batches:  77%|███████▋  | 15300/19992 [2:09:24<30:59,  2.52it/s]"
          ]
        },
        {
          "output_type": "stream",
          "name": "stdout",
          "text": [
            "Created 15300 augmented samples so far\n"
          ]
        },
        {
          "output_type": "stream",
          "name": "stderr",
          "text": [
            "Processing batches:  77%|███████▋  | 15400/19992 [2:10:17<40:13,  1.90it/s]"
          ]
        },
        {
          "output_type": "stream",
          "name": "stdout",
          "text": [
            "Created 15400 augmented samples so far\n"
          ]
        },
        {
          "output_type": "stream",
          "name": "stderr",
          "text": [
            "Processing batches:  78%|███████▊  | 15501/19992 [2:11:09<26:59,  2.77it/s]"
          ]
        },
        {
          "output_type": "stream",
          "name": "stdout",
          "text": [
            "Created 15500 augmented samples so far\n"
          ]
        },
        {
          "output_type": "stream",
          "name": "stderr",
          "text": [
            "Processing batches:  78%|███████▊  | 15600/19992 [2:11:58<23:18,  3.14it/s]"
          ]
        },
        {
          "output_type": "stream",
          "name": "stdout",
          "text": [
            "Created 15600 augmented samples so far\n"
          ]
        },
        {
          "output_type": "stream",
          "name": "stderr",
          "text": [
            "Processing batches:  79%|███████▊  | 15700/19992 [2:12:40<37:57,  1.88it/s]"
          ]
        },
        {
          "output_type": "stream",
          "name": "stdout",
          "text": [
            "Created 15700 augmented samples so far\n"
          ]
        },
        {
          "output_type": "stream",
          "name": "stderr",
          "text": [
            "Processing batches:  79%|███████▉  | 15800/19992 [2:13:30<37:02,  1.89it/s]"
          ]
        },
        {
          "output_type": "stream",
          "name": "stdout",
          "text": [
            "Created 15800 augmented samples so far\n"
          ]
        },
        {
          "output_type": "stream",
          "name": "stderr",
          "text": [
            "Processing batches:  80%|███████▉  | 15900/19992 [2:14:17<26:40,  2.56it/s]"
          ]
        },
        {
          "output_type": "stream",
          "name": "stdout",
          "text": [
            "Created 15900 augmented samples so far\n"
          ]
        },
        {
          "output_type": "stream",
          "name": "stderr",
          "text": [
            "Processing batches:  80%|███████▉  | 15992/19992 [2:14:59<27:36,  2.41it/s]"
          ]
        },
        {
          "output_type": "stream",
          "name": "stdout",
          "text": [
            "Saving intermediate results after processing 15992 batches...\n"
          ]
        },
        {
          "output_type": "stream",
          "name": "stderr",
          "text": [
            "\rProcessing batches:  80%|███████▉  | 15993/19992 [2:15:02<1:10:08,  1.05s/it]"
          ]
        },
        {
          "output_type": "stream",
          "name": "stdout",
          "text": [
            "Saved 15993 augmented samples to imdb_train_contextual_augmented_intermediate_15992.csv\n"
          ]
        },
        {
          "output_type": "stream",
          "name": "stderr",
          "text": [
            "Processing batches:  80%|████████  | 16001/19992 [2:15:05<24:50,  2.68it/s]"
          ]
        },
        {
          "output_type": "stream",
          "name": "stdout",
          "text": [
            "Created 16000 augmented samples so far\n"
          ]
        },
        {
          "output_type": "stream",
          "name": "stderr",
          "text": [
            "Processing batches:  81%|████████  | 16100/19992 [2:15:48<24:44,  2.62it/s]"
          ]
        },
        {
          "output_type": "stream",
          "name": "stdout",
          "text": [
            "Created 16100 augmented samples so far\n"
          ]
        },
        {
          "output_type": "stream",
          "name": "stderr",
          "text": [
            "Processing batches:  81%|████████  | 16200/19992 [2:16:42<41:52,  1.51it/s]"
          ]
        },
        {
          "output_type": "stream",
          "name": "stdout",
          "text": [
            "Created 16200 augmented samples so far\n"
          ]
        },
        {
          "output_type": "stream",
          "name": "stderr",
          "text": [
            "Processing batches:  82%|████████▏ | 16300/19992 [2:17:32<29:44,  2.07it/s]"
          ]
        },
        {
          "output_type": "stream",
          "name": "stdout",
          "text": [
            "Created 16300 augmented samples so far\n"
          ]
        },
        {
          "output_type": "stream",
          "name": "stderr",
          "text": [
            "Processing batches:  82%|████████▏ | 16400/19992 [2:18:27<19:49,  3.02it/s]"
          ]
        },
        {
          "output_type": "stream",
          "name": "stdout",
          "text": [
            "Created 16400 augmented samples so far\n"
          ]
        },
        {
          "output_type": "stream",
          "name": "stderr",
          "text": [
            "Processing batches:  83%|████████▎ | 16500/19992 [2:19:16<23:03,  2.52it/s]"
          ]
        },
        {
          "output_type": "stream",
          "name": "stdout",
          "text": [
            "Created 16500 augmented samples so far\n"
          ]
        },
        {
          "output_type": "stream",
          "name": "stderr",
          "text": [
            "Processing batches:  83%|████████▎ | 16600/19992 [2:20:10<35:46,  1.58it/s]"
          ]
        },
        {
          "output_type": "stream",
          "name": "stdout",
          "text": [
            "Created 16600 augmented samples so far\n"
          ]
        },
        {
          "output_type": "stream",
          "name": "stderr",
          "text": [
            "Processing batches:  84%|████████▎ | 16700/19992 [2:21:03<20:42,  2.65it/s]"
          ]
        },
        {
          "output_type": "stream",
          "name": "stdout",
          "text": [
            "Created 16700 augmented samples so far\n"
          ]
        },
        {
          "output_type": "stream",
          "name": "stderr",
          "text": [
            "Processing batches:  84%|████████▍ | 16800/19992 [2:21:58<34:48,  1.53it/s]"
          ]
        },
        {
          "output_type": "stream",
          "name": "stdout",
          "text": [
            "Created 16800 augmented samples so far\n"
          ]
        },
        {
          "output_type": "stream",
          "name": "stderr",
          "text": [
            "Processing batches:  85%|████████▍ | 16900/19992 [2:22:51<25:56,  1.99it/s]"
          ]
        },
        {
          "output_type": "stream",
          "name": "stdout",
          "text": [
            "Created 16900 augmented samples so far\n"
          ]
        },
        {
          "output_type": "stream",
          "name": "stderr",
          "text": [
            "Processing batches:  85%|████████▌ | 17000/19992 [2:23:42<26:02,  1.91it/s]"
          ]
        },
        {
          "output_type": "stream",
          "name": "stdout",
          "text": [
            "Created 17000 augmented samples so far\n"
          ]
        },
        {
          "output_type": "stream",
          "name": "stderr",
          "text": [
            "Processing batches:  86%|████████▌ | 17100/19992 [2:24:33<18:38,  2.58it/s]"
          ]
        },
        {
          "output_type": "stream",
          "name": "stdout",
          "text": [
            "Created 17100 augmented samples so far\n"
          ]
        },
        {
          "output_type": "stream",
          "name": "stderr",
          "text": [
            "Processing batches:  86%|████████▌ | 17200/19992 [2:25:24<32:50,  1.42it/s]"
          ]
        },
        {
          "output_type": "stream",
          "name": "stdout",
          "text": [
            "Created 17200 augmented samples so far\n"
          ]
        },
        {
          "output_type": "stream",
          "name": "stderr",
          "text": [
            "Processing batches:  87%|████████▋ | 17300/19992 [2:26:12<14:36,  3.07it/s]"
          ]
        },
        {
          "output_type": "stream",
          "name": "stdout",
          "text": [
            "Created 17300 augmented samples so far\n"
          ]
        },
        {
          "output_type": "stream",
          "name": "stderr",
          "text": [
            "Processing batches:  87%|████████▋ | 17400/19992 [2:27:05<29:14,  1.48it/s]"
          ]
        },
        {
          "output_type": "stream",
          "name": "stdout",
          "text": [
            "Created 17400 augmented samples so far\n"
          ]
        },
        {
          "output_type": "stream",
          "name": "stderr",
          "text": [
            "Processing batches:  88%|████████▊ | 17500/19992 [2:27:53<24:55,  1.67it/s]"
          ]
        },
        {
          "output_type": "stream",
          "name": "stdout",
          "text": [
            "Created 17500 augmented samples so far\n"
          ]
        },
        {
          "output_type": "stream",
          "name": "stderr",
          "text": [
            "Processing batches:  88%|████████▊ | 17600/19992 [2:28:49<16:32,  2.41it/s]"
          ]
        },
        {
          "output_type": "stream",
          "name": "stdout",
          "text": [
            "Created 17600 augmented samples so far\n"
          ]
        },
        {
          "output_type": "stream",
          "name": "stderr",
          "text": [
            "Processing batches:  89%|████████▊ | 17700/19992 [2:29:36<26:59,  1.42it/s]"
          ]
        },
        {
          "output_type": "stream",
          "name": "stdout",
          "text": [
            "Created 17700 augmented samples so far\n"
          ]
        },
        {
          "output_type": "stream",
          "name": "stderr",
          "text": [
            "Processing batches:  89%|████████▉ | 17800/19992 [2:30:32<17:09,  2.13it/s]"
          ]
        },
        {
          "output_type": "stream",
          "name": "stdout",
          "text": [
            "Created 17800 augmented samples so far\n"
          ]
        },
        {
          "output_type": "stream",
          "name": "stderr",
          "text": [
            "Processing batches:  90%|████████▉ | 17900/19992 [2:31:20<21:25,  1.63it/s]"
          ]
        },
        {
          "output_type": "stream",
          "name": "stdout",
          "text": [
            "Created 17900 augmented samples so far\n"
          ]
        },
        {
          "output_type": "stream",
          "name": "stderr",
          "text": [
            "Processing batches:  90%|████████▉ | 17991/19992 [2:32:04<10:38,  3.13it/s]"
          ]
        },
        {
          "output_type": "stream",
          "name": "stdout",
          "text": [
            "Saving intermediate results after processing 17991 batches...\n"
          ]
        },
        {
          "output_type": "stream",
          "name": "stderr",
          "text": [
            "\rProcessing batches:  90%|████████▉ | 17992/19992 [2:32:07<34:02,  1.02s/it]"
          ]
        },
        {
          "output_type": "stream",
          "name": "stdout",
          "text": [
            "Saved 17992 augmented samples to imdb_train_contextual_augmented_intermediate_17991.csv\n"
          ]
        },
        {
          "output_type": "stream",
          "name": "stderr",
          "text": [
            "Processing batches:  90%|█████████ | 18000/19992 [2:32:10<12:54,  2.57it/s]"
          ]
        },
        {
          "output_type": "stream",
          "name": "stdout",
          "text": [
            "Created 18000 augmented samples so far\n"
          ]
        },
        {
          "output_type": "stream",
          "name": "stderr",
          "text": [
            "Processing batches:  91%|█████████ | 18099/19992 [2:32:59<21:36,  1.46it/s]"
          ]
        },
        {
          "output_type": "stream",
          "name": "stdout",
          "text": [
            "Created 18100 augmented samples so far\n"
          ]
        },
        {
          "output_type": "stream",
          "name": "stderr",
          "text": [
            "Processing batches:  91%|█████████ | 18200/19992 [2:33:49<12:50,  2.33it/s]"
          ]
        },
        {
          "output_type": "stream",
          "name": "stdout",
          "text": [
            "Created 18200 augmented samples so far\n"
          ]
        },
        {
          "output_type": "stream",
          "name": "stderr",
          "text": [
            "Processing batches:  92%|█████████▏| 18300/19992 [2:34:31<16:44,  1.68it/s]"
          ]
        },
        {
          "output_type": "stream",
          "name": "stdout",
          "text": [
            "Created 18300 augmented samples so far\n"
          ]
        },
        {
          "output_type": "stream",
          "name": "stderr",
          "text": [
            "Processing batches:  92%|█████████▏| 18400/19992 [2:35:15<18:23,  1.44it/s]"
          ]
        },
        {
          "output_type": "stream",
          "name": "stdout",
          "text": [
            "Created 18400 augmented samples so far\n"
          ]
        },
        {
          "output_type": "stream",
          "name": "stderr",
          "text": [
            "Processing batches:  93%|█████████▎| 18500/19992 [2:36:10<11:52,  2.10it/s]"
          ]
        },
        {
          "output_type": "stream",
          "name": "stdout",
          "text": [
            "Created 18500 augmented samples so far\n"
          ]
        },
        {
          "output_type": "stream",
          "name": "stderr",
          "text": [
            "Processing batches:  93%|█████████▎| 18600/19992 [2:36:58<07:18,  3.18it/s]"
          ]
        },
        {
          "output_type": "stream",
          "name": "stdout",
          "text": [
            "Created 18600 augmented samples so far\n"
          ]
        },
        {
          "output_type": "stream",
          "name": "stderr",
          "text": [
            "Processing batches:  94%|█████████▎| 18700/19992 [2:37:49<08:45,  2.46it/s]"
          ]
        },
        {
          "output_type": "stream",
          "name": "stdout",
          "text": [
            "Created 18700 augmented samples so far\n"
          ]
        },
        {
          "output_type": "stream",
          "name": "stderr",
          "text": [
            "Processing batches:  94%|█████████▍| 18800/19992 [2:38:36<12:55,  1.54it/s]"
          ]
        },
        {
          "output_type": "stream",
          "name": "stdout",
          "text": [
            "Created 18800 augmented samples so far\n"
          ]
        },
        {
          "output_type": "stream",
          "name": "stderr",
          "text": [
            "Processing batches:  95%|█████████▍| 18900/19992 [2:39:30<05:09,  3.53it/s]"
          ]
        },
        {
          "output_type": "stream",
          "name": "stdout",
          "text": [
            "Created 18900 augmented samples so far\n"
          ]
        },
        {
          "output_type": "stream",
          "name": "stderr",
          "text": [
            "Processing batches:  95%|█████████▌| 19000/19992 [2:40:17<04:40,  3.54it/s]"
          ]
        },
        {
          "output_type": "stream",
          "name": "stdout",
          "text": [
            "Created 19000 augmented samples so far\n"
          ]
        },
        {
          "output_type": "stream",
          "name": "stderr",
          "text": [
            "Processing batches:  96%|█████████▌| 19100/19992 [2:41:09<03:59,  3.72it/s]"
          ]
        },
        {
          "output_type": "stream",
          "name": "stdout",
          "text": [
            "Created 19100 augmented samples so far\n"
          ]
        },
        {
          "output_type": "stream",
          "name": "stderr",
          "text": [
            "Processing batches:  96%|█████████▌| 19200/19992 [2:41:59<06:14,  2.11it/s]"
          ]
        },
        {
          "output_type": "stream",
          "name": "stdout",
          "text": [
            "Created 19200 augmented samples so far\n"
          ]
        },
        {
          "output_type": "stream",
          "name": "stderr",
          "text": [
            "Processing batches:  97%|█████████▋| 19300/19992 [2:42:54<04:35,  2.51it/s]"
          ]
        },
        {
          "output_type": "stream",
          "name": "stdout",
          "text": [
            "Created 19300 augmented samples so far\n"
          ]
        },
        {
          "output_type": "stream",
          "name": "stderr",
          "text": [
            "Processing batches:  97%|█████████▋| 19400/19992 [2:43:43<03:29,  2.83it/s]"
          ]
        },
        {
          "output_type": "stream",
          "name": "stdout",
          "text": [
            "Created 19400 augmented samples so far\n"
          ]
        },
        {
          "output_type": "stream",
          "name": "stderr",
          "text": [
            "Processing batches:  98%|█████████▊| 19500/19992 [2:44:34<04:04,  2.01it/s]"
          ]
        },
        {
          "output_type": "stream",
          "name": "stdout",
          "text": [
            "Created 19500 augmented samples so far\n"
          ]
        },
        {
          "output_type": "stream",
          "name": "stderr",
          "text": [
            "Processing batches:  98%|█████████▊| 19600/19992 [2:45:25<02:06,  3.10it/s]"
          ]
        },
        {
          "output_type": "stream",
          "name": "stdout",
          "text": [
            "Created 19600 augmented samples so far\n"
          ]
        },
        {
          "output_type": "stream",
          "name": "stderr",
          "text": [
            "Processing batches:  99%|█████████▊| 19700/19992 [2:46:14<02:30,  1.94it/s]"
          ]
        },
        {
          "output_type": "stream",
          "name": "stdout",
          "text": [
            "Created 19700 augmented samples so far\n"
          ]
        },
        {
          "output_type": "stream",
          "name": "stderr",
          "text": [
            "Processing batches:  99%|█████████▉| 19800/19992 [2:47:08<02:52,  1.11it/s]"
          ]
        },
        {
          "output_type": "stream",
          "name": "stdout",
          "text": [
            "Created 19800 augmented samples so far\n"
          ]
        },
        {
          "output_type": "stream",
          "name": "stderr",
          "text": [
            "Processing batches: 100%|█████████▉| 19900/19992 [2:47:58<00:28,  3.18it/s]"
          ]
        },
        {
          "output_type": "stream",
          "name": "stdout",
          "text": [
            "Created 19900 augmented samples so far\n"
          ]
        },
        {
          "output_type": "stream",
          "name": "stderr",
          "text": [
            "Processing batches: 100%|█████████▉| 19990/19992 [2:48:41<00:00,  2.63it/s]"
          ]
        },
        {
          "output_type": "stream",
          "name": "stdout",
          "text": [
            "Saving intermediate results after processing 19990 batches...\n"
          ]
        },
        {
          "output_type": "stream",
          "name": "stderr",
          "text": [
            "\rProcessing batches: 100%|█████████▉| 19991/19992 [2:48:43<00:01,  1.08s/it]"
          ]
        },
        {
          "output_type": "stream",
          "name": "stdout",
          "text": [
            "Saved 19991 augmented samples to imdb_train_contextual_augmented_intermediate_19990.csv\n"
          ]
        },
        {
          "output_type": "stream",
          "name": "stderr",
          "text": [
            "Processing batches: 100%|██████████| 19992/19992 [2:48:44<00:00,  1.97it/s]\n"
          ]
        },
        {
          "output_type": "stream",
          "name": "stdout",
          "text": [
            "\n",
            "Augmented dataset size: 44992 reviews\n",
            "Added 19992 augmented samples\n",
            "Percentage increase: 79.97%\n",
            "Saving augmented dataset to imdb_train_contextual_augmented.csv...\n",
            "Done!\n",
            "Running in Google Colab - initiating download...\n"
          ]
        },
        {
          "output_type": "display_data",
          "data": {
            "text/plain": [
              "<IPython.core.display.Javascript object>"
            ],
            "application/javascript": [
              "\n",
              "    async function download(id, filename, size) {\n",
              "      if (!google.colab.kernel.accessAllowed) {\n",
              "        return;\n",
              "      }\n",
              "      const div = document.createElement('div');\n",
              "      const label = document.createElement('label');\n",
              "      label.textContent = `Downloading \"${filename}\": `;\n",
              "      div.appendChild(label);\n",
              "      const progress = document.createElement('progress');\n",
              "      progress.max = size;\n",
              "      div.appendChild(progress);\n",
              "      document.body.appendChild(div);\n",
              "\n",
              "      const buffers = [];\n",
              "      let downloaded = 0;\n",
              "\n",
              "      const channel = await google.colab.kernel.comms.open(id);\n",
              "      // Send a message to notify the kernel that we're ready.\n",
              "      channel.send({})\n",
              "\n",
              "      for await (const message of channel.messages) {\n",
              "        // Send a message to notify the kernel that we're ready.\n",
              "        channel.send({})\n",
              "        if (message.buffers) {\n",
              "          for (const buffer of message.buffers) {\n",
              "            buffers.push(buffer);\n",
              "            downloaded += buffer.byteLength;\n",
              "            progress.value = downloaded;\n",
              "          }\n",
              "        }\n",
              "      }\n",
              "      const blob = new Blob(buffers, {type: 'application/binary'});\n",
              "      const a = document.createElement('a');\n",
              "      a.href = window.URL.createObjectURL(blob);\n",
              "      a.download = filename;\n",
              "      div.appendChild(a);\n",
              "      a.click();\n",
              "      div.remove();\n",
              "    }\n",
              "  "
            ]
          },
          "metadata": {}
        },
        {
          "output_type": "display_data",
          "data": {
            "text/plain": [
              "<IPython.core.display.Javascript object>"
            ],
            "application/javascript": [
              "download(\"download_70e141e4-b628-428d-9117-7a409363bf42\", \"imdb_train_contextual_augmented.csv\", 60775797)"
            ]
          },
          "metadata": {}
        },
        {
          "output_type": "stream",
          "name": "stdout",
          "text": [
            "File imdb_train_contextual_augmented.csv should be downloading to your local machine.\n",
            "\n",
            "Examples of original and augmented reviews:\n",
            "\n",
            "Augmented (contextual):\n",
            "that movie is an eye out for those who can see the dream lifestyles of the stars . It reminds you how people who just like to do so are not allowed to . Plus the gas blast itself is for real . <br / >...\n",
            "\n",
            "Original:\n",
            "And a rather Unexpected plot line too-for the era: there is Plague in the City of New Orleans-and only Richard Widmark can stop it! Elia Kazan's trademark subjects: waterfronts, working men, crowds, f...\n",
            "\n",
            "Augmented (contextual):\n",
            "- unknown Michelle Rodriguez as Diana was a stroke of genius . She ' s perfect . Her acting on actually works in her favor . We ' ve never seen her before so it just sounds fitting her relationship . ...\n",
            "\n",
            "Original:\n",
            "Yesterday I attended the world premiere of \"Descent\" at the Tribeca Film Festival in NYC. I had a great time. It was sold out and attended by all the major stars including fellow my-spacer Marcus Patr...\n"
          ]
        }
      ]
    }
  ]
}